{
 "cells": [
  {
   "cell_type": "code",
   "execution_count": 1,
   "metadata": {
    "colab": {
     "base_uri": "https://localhost:8080/"
    },
    "id": "Rq7EGPP2b27w",
    "outputId": "d640b4f7-c030-49ab-af70-f97062cb1a4d"
   },
   "outputs": [
    {
     "name": "stdout",
     "output_type": "stream",
     "text": [
      "Downloading...\n",
      "From: https://drive.google.com/uc?id=1rkjNBPWA0kIquX3GfF8yTYs7kGSeaQH0\n",
      "To: /content/facial-keypoints-detection.zip\n",
      "80.0MB [00:00, 82.8MB/s]\n"
     ]
    }
   ],
   "source": [
    "!gdown --id 1rkjNBPWA0kIquX3GfF8yTYs7kGSeaQH0"
   ]
  },
  {
   "cell_type": "code",
   "execution_count": 4,
   "metadata": {
    "id": "xFtNZ11rchvo"
   },
   "outputs": [],
   "source": [
    "!mkdir data"
   ]
  },
  {
   "cell_type": "code",
   "execution_count": 7,
   "metadata": {
    "colab": {
     "base_uri": "https://localhost:8080/"
    },
    "id": "9Ni695YGcVti",
    "outputId": "d4852394-28ab-41a8-fcce-9be20f105618"
   },
   "outputs": [
    {
     "name": "stdout",
     "output_type": "stream",
     "text": [
      "Archive:  /content/facial-keypoints-detection.zip\n",
      "  inflating: data/IdLookupTable.csv  \n",
      "  inflating: data/SampleSubmission.csv  \n",
      "  inflating: data/test.zip           \n",
      "  inflating: data/training.zip       \n"
     ]
    }
   ],
   "source": [
    "!unzip /content/facial-keypoints-detection.zip -d data"
   ]
  },
  {
   "cell_type": "code",
   "execution_count": 8,
   "metadata": {
    "_cell_guid": "b1076dfc-b9ad-4769-8c92-a6c4dae69d19",
    "_uuid": "8f2839f25d086af736a60e9eeb907d3b93b6e0e5",
    "colab": {
     "base_uri": "https://localhost:8080/"
    },
    "execution": {
     "iopub.execute_input": "2020-08-14T18:30:25.944656Z",
     "iopub.status.busy": "2020-08-14T18:30:25.943828Z",
     "iopub.status.idle": "2020-08-14T18:30:26.935684Z",
     "shell.execute_reply": "2020-08-14T18:30:26.936197Z"
    },
    "id": "aD68UDSdaMiF",
    "outputId": "e5dc3fef-ee22-4a35-b0eb-d1d5d00ec7e2",
    "papermill": {
     "duration": 1.01529,
     "end_time": "2020-08-14T18:30:26.936383",
     "exception": false,
     "start_time": "2020-08-14T18:30:25.921093",
     "status": "completed"
    },
    "tags": []
   },
   "outputs": [
    {
     "name": "stdout",
     "output_type": "stream",
     "text": [
      "/content/data/SampleSubmission.csv\n",
      "/content/data/training.zip\n",
      "/content/data/IdLookupTable.csv\n",
      "/content/data/test.zip\n"
     ]
    }
   ],
   "source": [
    "import numpy as np\n",
    "import pandas as pd \n",
    "import seaborn as sns\n",
    "import matplotlib.pyplot as plt\n",
    "\n",
    "\n",
    "import os\n",
    "for dirname, _, filenames in os.walk('/content/data'):\n",
    "    for filename in filenames:\n",
    "        print(os.path.join(dirname, filename))\n"
   ]
  },
  {
   "cell_type": "code",
   "execution_count": 9,
   "metadata": {
    "_cell_guid": "79c7e3d0-c299-4dcb-8224-4455121ee9b0",
    "_uuid": "d629ff2d2480ee46fbb7e2d37f6b5fab8052498a",
    "colab": {
     "base_uri": "https://localhost:8080/"
    },
    "execution": {
     "iopub.execute_input": "2020-08-14T18:30:26.975954Z",
     "iopub.status.busy": "2020-08-14T18:30:26.975209Z",
     "iopub.status.idle": "2020-08-14T18:30:30.953454Z",
     "shell.execute_reply": "2020-08-14T18:30:30.951872Z"
    },
    "id": "EJZVK2flaMiM",
    "outputId": "663bf174-730b-423b-d7a8-eb09b8f4556f",
    "papermill": {
     "duration": 4.000863,
     "end_time": "2020-08-14T18:30:30.953592",
     "exception": false,
     "start_time": "2020-08-14T18:30:26.952729",
     "status": "completed"
    },
    "tags": []
   },
   "outputs": [
    {
     "name": "stdout",
     "output_type": "stream",
     "text": [
      "Archive:  /content/data/test.zip\n",
      "  inflating: test.csv                \n",
      "Archive:  /content/data/training.zip\n",
      "  inflating: training.csv            \n"
     ]
    }
   ],
   "source": [
    "!unzip -u /content/data/test.zip\n",
    "!unzip -u /content/data/training.zip"
   ]
  },
  {
   "cell_type": "code",
   "execution_count": 11,
   "metadata": {
    "execution": {
     "iopub.execute_input": "2020-08-14T18:30:30.996966Z",
     "iopub.status.busy": "2020-08-14T18:30:30.995995Z",
     "iopub.status.idle": "2020-08-14T18:30:34.474141Z",
     "shell.execute_reply": "2020-08-14T18:30:34.473521Z"
    },
    "id": "XIuIptb8aMiN",
    "papermill": {
     "duration": 3.503296,
     "end_time": "2020-08-14T18:30:34.474275",
     "exception": false,
     "start_time": "2020-08-14T18:30:30.970979",
     "status": "completed"
    },
    "tags": []
   },
   "outputs": [],
   "source": [
    "train_file = 'training.csv'\n",
    "test_file = 'test.csv'\n",
    "lookup_file = '/content/data/IdLookupTable.csv'\n",
    "train = pd.read_csv(train_file)\n",
    "test = pd.read_csv(test_file)\n",
    "lookup = pd.read_csv(lookup_file)\n"
   ]
  },
  {
   "cell_type": "code",
   "execution_count": 12,
   "metadata": {
    "colab": {
     "base_uri": "https://localhost:8080/",
     "height": 1000
    },
    "execution": {
     "iopub.execute_input": "2020-08-14T18:30:34.537257Z",
     "iopub.status.busy": "2020-08-14T18:30:34.526555Z",
     "iopub.status.idle": "2020-08-14T18:30:34.552511Z",
     "shell.execute_reply": "2020-08-14T18:30:34.552973Z"
    },
    "id": "UCoNqgsOaMiO",
    "outputId": "3222adc3-fccf-4ecd-9ddc-a177439ced85",
    "papermill": {
     "duration": 0.061158,
     "end_time": "2020-08-14T18:30:34.553144",
     "exception": false,
     "start_time": "2020-08-14T18:30:34.491986",
     "status": "completed"
    },
    "tags": []
   },
   "outputs": [
    {
     "data": {
      "text/html": [
       "<div>\n",
       "<style scoped>\n",
       "    .dataframe tbody tr th:only-of-type {\n",
       "        vertical-align: middle;\n",
       "    }\n",
       "\n",
       "    .dataframe tbody tr th {\n",
       "        vertical-align: top;\n",
       "    }\n",
       "\n",
       "    .dataframe thead th {\n",
       "        text-align: right;\n",
       "    }\n",
       "</style>\n",
       "<table border=\"1\" class=\"dataframe\">\n",
       "  <thead>\n",
       "    <tr style=\"text-align: right;\">\n",
       "      <th></th>\n",
       "      <th>0</th>\n",
       "      <th>1</th>\n",
       "      <th>2</th>\n",
       "      <th>3</th>\n",
       "      <th>4</th>\n",
       "    </tr>\n",
       "  </thead>\n",
       "  <tbody>\n",
       "    <tr>\n",
       "      <th>left_eye_center_x</th>\n",
       "      <td>66.0336</td>\n",
       "      <td>64.3329</td>\n",
       "      <td>65.0571</td>\n",
       "      <td>65.2257</td>\n",
       "      <td>66.7253</td>\n",
       "    </tr>\n",
       "    <tr>\n",
       "      <th>left_eye_center_y</th>\n",
       "      <td>39.0023</td>\n",
       "      <td>34.9701</td>\n",
       "      <td>34.9096</td>\n",
       "      <td>37.2618</td>\n",
       "      <td>39.6213</td>\n",
       "    </tr>\n",
       "    <tr>\n",
       "      <th>right_eye_center_x</th>\n",
       "      <td>30.227</td>\n",
       "      <td>29.9493</td>\n",
       "      <td>30.9038</td>\n",
       "      <td>32.0231</td>\n",
       "      <td>32.2448</td>\n",
       "    </tr>\n",
       "    <tr>\n",
       "      <th>right_eye_center_y</th>\n",
       "      <td>36.4217</td>\n",
       "      <td>33.4487</td>\n",
       "      <td>34.9096</td>\n",
       "      <td>37.2618</td>\n",
       "      <td>38.042</td>\n",
       "    </tr>\n",
       "    <tr>\n",
       "      <th>left_eye_inner_corner_x</th>\n",
       "      <td>59.5821</td>\n",
       "      <td>58.8562</td>\n",
       "      <td>59.412</td>\n",
       "      <td>60.0033</td>\n",
       "      <td>58.5659</td>\n",
       "    </tr>\n",
       "    <tr>\n",
       "      <th>left_eye_inner_corner_y</th>\n",
       "      <td>39.6474</td>\n",
       "      <td>35.2743</td>\n",
       "      <td>36.321</td>\n",
       "      <td>39.1272</td>\n",
       "      <td>39.6213</td>\n",
       "    </tr>\n",
       "    <tr>\n",
       "      <th>left_eye_outer_corner_x</th>\n",
       "      <td>73.1303</td>\n",
       "      <td>70.7227</td>\n",
       "      <td>70.9844</td>\n",
       "      <td>72.3147</td>\n",
       "      <td>72.5159</td>\n",
       "    </tr>\n",
       "    <tr>\n",
       "      <th>left_eye_outer_corner_y</th>\n",
       "      <td>39.97</td>\n",
       "      <td>36.1872</td>\n",
       "      <td>36.321</td>\n",
       "      <td>38.381</td>\n",
       "      <td>39.8845</td>\n",
       "    </tr>\n",
       "    <tr>\n",
       "      <th>right_eye_inner_corner_x</th>\n",
       "      <td>36.3566</td>\n",
       "      <td>36.0347</td>\n",
       "      <td>37.6781</td>\n",
       "      <td>37.6186</td>\n",
       "      <td>36.9824</td>\n",
       "    </tr>\n",
       "    <tr>\n",
       "      <th>right_eye_inner_corner_y</th>\n",
       "      <td>37.3894</td>\n",
       "      <td>34.3615</td>\n",
       "      <td>36.321</td>\n",
       "      <td>38.7541</td>\n",
       "      <td>39.0949</td>\n",
       "    </tr>\n",
       "    <tr>\n",
       "      <th>right_eye_outer_corner_x</th>\n",
       "      <td>23.4529</td>\n",
       "      <td>24.4725</td>\n",
       "      <td>24.9764</td>\n",
       "      <td>25.3073</td>\n",
       "      <td>22.5061</td>\n",
       "    </tr>\n",
       "    <tr>\n",
       "      <th>right_eye_outer_corner_y</th>\n",
       "      <td>37.3894</td>\n",
       "      <td>33.1444</td>\n",
       "      <td>36.6032</td>\n",
       "      <td>38.0079</td>\n",
       "      <td>38.3052</td>\n",
       "    </tr>\n",
       "    <tr>\n",
       "      <th>left_eyebrow_inner_end_x</th>\n",
       "      <td>56.9533</td>\n",
       "      <td>53.9874</td>\n",
       "      <td>55.7425</td>\n",
       "      <td>56.4338</td>\n",
       "      <td>57.2496</td>\n",
       "    </tr>\n",
       "    <tr>\n",
       "      <th>left_eyebrow_inner_end_y</th>\n",
       "      <td>29.0336</td>\n",
       "      <td>28.2759</td>\n",
       "      <td>27.5709</td>\n",
       "      <td>30.9299</td>\n",
       "      <td>30.6722</td>\n",
       "    </tr>\n",
       "    <tr>\n",
       "      <th>left_eyebrow_outer_end_x</th>\n",
       "      <td>80.2271</td>\n",
       "      <td>78.6342</td>\n",
       "      <td>78.8874</td>\n",
       "      <td>77.9103</td>\n",
       "      <td>77.7629</td>\n",
       "    </tr>\n",
       "    <tr>\n",
       "      <th>left_eyebrow_outer_end_y</th>\n",
       "      <td>32.2281</td>\n",
       "      <td>30.4059</td>\n",
       "      <td>32.6516</td>\n",
       "      <td>31.6657</td>\n",
       "      <td>31.7372</td>\n",
       "    </tr>\n",
       "    <tr>\n",
       "      <th>right_eyebrow_inner_end_x</th>\n",
       "      <td>40.2276</td>\n",
       "      <td>42.7289</td>\n",
       "      <td>42.1939</td>\n",
       "      <td>41.6715</td>\n",
       "      <td>38.0354</td>\n",
       "    </tr>\n",
       "    <tr>\n",
       "      <th>right_eyebrow_inner_end_y</th>\n",
       "      <td>29.0023</td>\n",
       "      <td>26.146</td>\n",
       "      <td>28.1355</td>\n",
       "      <td>31.05</td>\n",
       "      <td>30.9354</td>\n",
       "    </tr>\n",
       "    <tr>\n",
       "      <th>right_eyebrow_outer_end_x</th>\n",
       "      <td>16.3564</td>\n",
       "      <td>16.8654</td>\n",
       "      <td>16.7912</td>\n",
       "      <td>20.458</td>\n",
       "      <td>15.9259</td>\n",
       "    </tr>\n",
       "    <tr>\n",
       "      <th>right_eyebrow_outer_end_y</th>\n",
       "      <td>29.6475</td>\n",
       "      <td>27.0589</td>\n",
       "      <td>32.0871</td>\n",
       "      <td>29.9093</td>\n",
       "      <td>30.6722</td>\n",
       "    </tr>\n",
       "    <tr>\n",
       "      <th>nose_tip_x</th>\n",
       "      <td>44.4206</td>\n",
       "      <td>48.2063</td>\n",
       "      <td>47.5573</td>\n",
       "      <td>51.8851</td>\n",
       "      <td>43.2995</td>\n",
       "    </tr>\n",
       "    <tr>\n",
       "      <th>nose_tip_y</th>\n",
       "      <td>57.0668</td>\n",
       "      <td>55.6609</td>\n",
       "      <td>53.5389</td>\n",
       "      <td>54.1665</td>\n",
       "      <td>64.8895</td>\n",
       "    </tr>\n",
       "    <tr>\n",
       "      <th>mouth_left_corner_x</th>\n",
       "      <td>61.1953</td>\n",
       "      <td>56.4214</td>\n",
       "      <td>60.8229</td>\n",
       "      <td>65.5989</td>\n",
       "      <td>60.6714</td>\n",
       "    </tr>\n",
       "    <tr>\n",
       "      <th>mouth_left_corner_y</th>\n",
       "      <td>79.9702</td>\n",
       "      <td>76.352</td>\n",
       "      <td>73.0143</td>\n",
       "      <td>72.7037</td>\n",
       "      <td>77.5232</td>\n",
       "    </tr>\n",
       "    <tr>\n",
       "      <th>mouth_right_corner_x</th>\n",
       "      <td>28.6145</td>\n",
       "      <td>35.1224</td>\n",
       "      <td>33.7263</td>\n",
       "      <td>37.2455</td>\n",
       "      <td>31.1918</td>\n",
       "    </tr>\n",
       "    <tr>\n",
       "      <th>mouth_right_corner_y</th>\n",
       "      <td>77.389</td>\n",
       "      <td>76.0477</td>\n",
       "      <td>72.732</td>\n",
       "      <td>74.1955</td>\n",
       "      <td>76.9973</td>\n",
       "    </tr>\n",
       "    <tr>\n",
       "      <th>mouth_center_top_lip_x</th>\n",
       "      <td>43.3126</td>\n",
       "      <td>46.6846</td>\n",
       "      <td>47.2749</td>\n",
       "      <td>50.3032</td>\n",
       "      <td>44.9627</td>\n",
       "    </tr>\n",
       "    <tr>\n",
       "      <th>mouth_center_top_lip_y</th>\n",
       "      <td>72.9355</td>\n",
       "      <td>70.2666</td>\n",
       "      <td>70.1918</td>\n",
       "      <td>70.0917</td>\n",
       "      <td>73.7074</td>\n",
       "    </tr>\n",
       "    <tr>\n",
       "      <th>mouth_center_bottom_lip_x</th>\n",
       "      <td>43.1307</td>\n",
       "      <td>45.4679</td>\n",
       "      <td>47.2749</td>\n",
       "      <td>51.5612</td>\n",
       "      <td>44.2271</td>\n",
       "    </tr>\n",
       "    <tr>\n",
       "      <th>mouth_center_bottom_lip_y</th>\n",
       "      <td>84.4858</td>\n",
       "      <td>85.4802</td>\n",
       "      <td>78.6594</td>\n",
       "      <td>78.2684</td>\n",
       "      <td>86.8712</td>\n",
       "    </tr>\n",
       "    <tr>\n",
       "      <th>Image</th>\n",
       "      <td>238 236 237 238 240 240 239 241 241 243 240 23...</td>\n",
       "      <td>219 215 204 196 204 211 212 200 180 168 178 19...</td>\n",
       "      <td>144 142 159 180 188 188 184 180 167 132 84 59 ...</td>\n",
       "      <td>193 192 193 194 194 194 193 192 168 111 50 12 ...</td>\n",
       "      <td>147 148 160 196 215 214 216 217 219 220 206 18...</td>\n",
       "    </tr>\n",
       "  </tbody>\n",
       "</table>\n",
       "</div>"
      ],
      "text/plain": [
       "                                                                           0  ...                                                  4\n",
       "left_eye_center_x                                                    66.0336  ...                                            66.7253\n",
       "left_eye_center_y                                                    39.0023  ...                                            39.6213\n",
       "right_eye_center_x                                                    30.227  ...                                            32.2448\n",
       "right_eye_center_y                                                   36.4217  ...                                             38.042\n",
       "left_eye_inner_corner_x                                              59.5821  ...                                            58.5659\n",
       "left_eye_inner_corner_y                                              39.6474  ...                                            39.6213\n",
       "left_eye_outer_corner_x                                              73.1303  ...                                            72.5159\n",
       "left_eye_outer_corner_y                                                39.97  ...                                            39.8845\n",
       "right_eye_inner_corner_x                                             36.3566  ...                                            36.9824\n",
       "right_eye_inner_corner_y                                             37.3894  ...                                            39.0949\n",
       "right_eye_outer_corner_x                                             23.4529  ...                                            22.5061\n",
       "right_eye_outer_corner_y                                             37.3894  ...                                            38.3052\n",
       "left_eyebrow_inner_end_x                                             56.9533  ...                                            57.2496\n",
       "left_eyebrow_inner_end_y                                             29.0336  ...                                            30.6722\n",
       "left_eyebrow_outer_end_x                                             80.2271  ...                                            77.7629\n",
       "left_eyebrow_outer_end_y                                             32.2281  ...                                            31.7372\n",
       "right_eyebrow_inner_end_x                                            40.2276  ...                                            38.0354\n",
       "right_eyebrow_inner_end_y                                            29.0023  ...                                            30.9354\n",
       "right_eyebrow_outer_end_x                                            16.3564  ...                                            15.9259\n",
       "right_eyebrow_outer_end_y                                            29.6475  ...                                            30.6722\n",
       "nose_tip_x                                                           44.4206  ...                                            43.2995\n",
       "nose_tip_y                                                           57.0668  ...                                            64.8895\n",
       "mouth_left_corner_x                                                  61.1953  ...                                            60.6714\n",
       "mouth_left_corner_y                                                  79.9702  ...                                            77.5232\n",
       "mouth_right_corner_x                                                 28.6145  ...                                            31.1918\n",
       "mouth_right_corner_y                                                  77.389  ...                                            76.9973\n",
       "mouth_center_top_lip_x                                               43.3126  ...                                            44.9627\n",
       "mouth_center_top_lip_y                                               72.9355  ...                                            73.7074\n",
       "mouth_center_bottom_lip_x                                            43.1307  ...                                            44.2271\n",
       "mouth_center_bottom_lip_y                                            84.4858  ...                                            86.8712\n",
       "Image                      238 236 237 238 240 240 239 241 241 243 240 23...  ...  147 148 160 196 215 214 216 217 219 220 206 18...\n",
       "\n",
       "[31 rows x 5 columns]"
      ]
     },
     "execution_count": 12,
     "metadata": {
      "tags": []
     },
     "output_type": "execute_result"
    }
   ],
   "source": [
    "train.head().T"
   ]
  },
  {
   "cell_type": "code",
   "execution_count": 13,
   "metadata": {
    "colab": {
     "base_uri": "https://localhost:8080/",
     "height": 204
    },
    "execution": {
     "iopub.execute_input": "2020-08-14T18:30:34.599378Z",
     "iopub.status.busy": "2020-08-14T18:30:34.598667Z",
     "iopub.status.idle": "2020-08-14T18:30:34.604555Z",
     "shell.execute_reply": "2020-08-14T18:30:34.603981Z"
    },
    "id": "wCJJmL5HaMiP",
    "outputId": "20d4beb8-26b2-497d-eb89-78335e7e1508",
    "papermill": {
     "duration": 0.033553,
     "end_time": "2020-08-14T18:30:34.604663",
     "exception": false,
     "start_time": "2020-08-14T18:30:34.571110",
     "status": "completed"
    },
    "tags": []
   },
   "outputs": [
    {
     "data": {
      "text/html": [
       "<div>\n",
       "<style scoped>\n",
       "    .dataframe tbody tr th:only-of-type {\n",
       "        vertical-align: middle;\n",
       "    }\n",
       "\n",
       "    .dataframe tbody tr th {\n",
       "        vertical-align: top;\n",
       "    }\n",
       "\n",
       "    .dataframe thead th {\n",
       "        text-align: right;\n",
       "    }\n",
       "</style>\n",
       "<table border=\"1\" class=\"dataframe\">\n",
       "  <thead>\n",
       "    <tr style=\"text-align: right;\">\n",
       "      <th></th>\n",
       "      <th>ImageId</th>\n",
       "      <th>Image</th>\n",
       "    </tr>\n",
       "  </thead>\n",
       "  <tbody>\n",
       "    <tr>\n",
       "      <th>0</th>\n",
       "      <td>1</td>\n",
       "      <td>182 183 182 182 180 180 176 169 156 137 124 10...</td>\n",
       "    </tr>\n",
       "    <tr>\n",
       "      <th>1</th>\n",
       "      <td>2</td>\n",
       "      <td>76 87 81 72 65 59 64 76 69 42 31 38 49 58 58 4...</td>\n",
       "    </tr>\n",
       "    <tr>\n",
       "      <th>2</th>\n",
       "      <td>3</td>\n",
       "      <td>177 176 174 170 169 169 168 166 166 166 161 14...</td>\n",
       "    </tr>\n",
       "    <tr>\n",
       "      <th>3</th>\n",
       "      <td>4</td>\n",
       "      <td>176 174 174 175 174 174 176 176 175 171 165 15...</td>\n",
       "    </tr>\n",
       "    <tr>\n",
       "      <th>4</th>\n",
       "      <td>5</td>\n",
       "      <td>50 47 44 101 144 149 120 58 48 42 35 35 37 39 ...</td>\n",
       "    </tr>\n",
       "  </tbody>\n",
       "</table>\n",
       "</div>"
      ],
      "text/plain": [
       "   ImageId                                              Image\n",
       "0        1  182 183 182 182 180 180 176 169 156 137 124 10...\n",
       "1        2  76 87 81 72 65 59 64 76 69 42 31 38 49 58 58 4...\n",
       "2        3  177 176 174 170 169 169 168 166 166 166 161 14...\n",
       "3        4  176 174 174 175 174 174 176 176 175 171 165 15...\n",
       "4        5  50 47 44 101 144 149 120 58 48 42 35 35 37 39 ..."
      ]
     },
     "execution_count": 13,
     "metadata": {
      "tags": []
     },
     "output_type": "execute_result"
    }
   ],
   "source": [
    "test.head()"
   ]
  },
  {
   "cell_type": "code",
   "execution_count": 14,
   "metadata": {
    "colab": {
     "base_uri": "https://localhost:8080/",
     "height": 173
    },
    "execution": {
     "iopub.execute_input": "2020-08-14T18:30:34.654114Z",
     "iopub.status.busy": "2020-08-14T18:30:34.653154Z",
     "iopub.status.idle": "2020-08-14T18:30:34.658365Z",
     "shell.execute_reply": "2020-08-14T18:30:34.657806Z"
    },
    "id": "sU-fYQf3aMiP",
    "outputId": "59d99d62-c62f-4e8f-8a12-61009d5d92c8",
    "papermill": {
     "duration": 0.03564,
     "end_time": "2020-08-14T18:30:34.658461",
     "exception": false,
     "start_time": "2020-08-14T18:30:34.622821",
     "status": "completed"
    },
    "tags": []
   },
   "outputs": [
    {
     "data": {
      "text/html": [
       "<div>\n",
       "<style scoped>\n",
       "    .dataframe tbody tr th:only-of-type {\n",
       "        vertical-align: middle;\n",
       "    }\n",
       "\n",
       "    .dataframe tbody tr th {\n",
       "        vertical-align: top;\n",
       "    }\n",
       "\n",
       "    .dataframe thead th {\n",
       "        text-align: right;\n",
       "    }\n",
       "</style>\n",
       "<table border=\"1\" class=\"dataframe\">\n",
       "  <thead>\n",
       "    <tr style=\"text-align: right;\">\n",
       "      <th></th>\n",
       "      <th>0</th>\n",
       "      <th>1</th>\n",
       "      <th>2</th>\n",
       "      <th>3</th>\n",
       "      <th>4</th>\n",
       "    </tr>\n",
       "  </thead>\n",
       "  <tbody>\n",
       "    <tr>\n",
       "      <th>RowId</th>\n",
       "      <td>1</td>\n",
       "      <td>2</td>\n",
       "      <td>3</td>\n",
       "      <td>4</td>\n",
       "      <td>5</td>\n",
       "    </tr>\n",
       "    <tr>\n",
       "      <th>ImageId</th>\n",
       "      <td>1</td>\n",
       "      <td>1</td>\n",
       "      <td>1</td>\n",
       "      <td>1</td>\n",
       "      <td>1</td>\n",
       "    </tr>\n",
       "    <tr>\n",
       "      <th>FeatureName</th>\n",
       "      <td>left_eye_center_x</td>\n",
       "      <td>left_eye_center_y</td>\n",
       "      <td>right_eye_center_x</td>\n",
       "      <td>right_eye_center_y</td>\n",
       "      <td>left_eye_inner_corner_x</td>\n",
       "    </tr>\n",
       "    <tr>\n",
       "      <th>Location</th>\n",
       "      <td>NaN</td>\n",
       "      <td>NaN</td>\n",
       "      <td>NaN</td>\n",
       "      <td>NaN</td>\n",
       "      <td>NaN</td>\n",
       "    </tr>\n",
       "  </tbody>\n",
       "</table>\n",
       "</div>"
      ],
      "text/plain": [
       "                             0  ...                        4\n",
       "RowId                        1  ...                        5\n",
       "ImageId                      1  ...                        1\n",
       "FeatureName  left_eye_center_x  ...  left_eye_inner_corner_x\n",
       "Location                   NaN  ...                      NaN\n",
       "\n",
       "[4 rows x 5 columns]"
      ]
     },
     "execution_count": 14,
     "metadata": {
      "tags": []
     },
     "output_type": "execute_result"
    }
   ],
   "source": [
    "lookup.head().T"
   ]
  },
  {
   "cell_type": "code",
   "execution_count": 15,
   "metadata": {
    "colab": {
     "base_uri": "https://localhost:8080/"
    },
    "execution": {
     "iopub.execute_input": "2020-08-14T18:30:34.702567Z",
     "iopub.status.busy": "2020-08-14T18:30:34.701836Z",
     "iopub.status.idle": "2020-08-14T18:30:34.716820Z",
     "shell.execute_reply": "2020-08-14T18:30:34.716309Z"
    },
    "id": "bvBwENAQaMiQ",
    "outputId": "3f248169-43d0-42cb-b92e-42a8af9571de",
    "papermill": {
     "duration": 0.038421,
     "end_time": "2020-08-14T18:30:34.716958",
     "exception": false,
     "start_time": "2020-08-14T18:30:34.678537",
     "status": "completed"
    },
    "tags": []
   },
   "outputs": [
    {
     "data": {
      "text/plain": [
       "True     28\n",
       "False     3\n",
       "dtype: int64"
      ]
     },
     "execution_count": 15,
     "metadata": {
      "tags": []
     },
     "output_type": "execute_result"
    }
   ],
   "source": [
    "train.isnull().any().value_counts()#"
   ]
  },
  {
   "cell_type": "code",
   "execution_count": 16,
   "metadata": {
    "colab": {
     "base_uri": "https://localhost:8080/",
     "height": 414
    },
    "execution": {
     "iopub.execute_input": "2020-08-14T18:30:34.761859Z",
     "iopub.status.busy": "2020-08-14T18:30:34.761245Z",
     "iopub.status.idle": "2020-08-14T18:30:35.316678Z",
     "shell.execute_reply": "2020-08-14T18:30:35.317280Z"
    },
    "id": "iGMcxKJdaMiR",
    "outputId": "1ca1ebec-c04b-4cc6-8b52-918721816914",
    "papermill": {
     "duration": 0.580097,
     "end_time": "2020-08-14T18:30:35.317457",
     "exception": false,
     "start_time": "2020-08-14T18:30:34.737360",
     "status": "completed"
    },
    "tags": []
   },
   "outputs": [
    {
     "data": {
      "text/plain": [
       "<matplotlib.axes._subplots.AxesSubplot at 0x7f9c600ce850>"
      ]
     },
     "execution_count": 16,
     "metadata": {
      "tags": []
     },
     "output_type": "execute_result"
    },
    {
     "data": {
      "image/png": "[encoded data removed]",
      "text/plain": [
       "<Figure size 432x288 with 2 Axes>"
      ]
     },
     "metadata": {
      "needs_background": "light",
      "tags": []
     },
     "output_type": "display_data"
    }
   ],
   "source": [
    "sns.heatmap(train.isnull(),yticklabels = False, cbar ='BuPu')"
   ]
  },
  {
   "cell_type": "code",
   "execution_count": 17,
   "metadata": {
    "colab": {
     "base_uri": "https://localhost:8080/"
    },
    "execution": {
     "iopub.execute_input": "2020-08-14T18:30:35.372782Z",
     "iopub.status.busy": "2020-08-14T18:30:35.371968Z",
     "iopub.status.idle": "2020-08-14T18:30:35.386942Z",
     "shell.execute_reply": "2020-08-14T18:30:35.387504Z"
    },
    "id": "w-5ffM7faMiS",
    "outputId": "ac3c4fa4-8fcc-4e0a-a5e2-4c805129e52c",
    "papermill": {
     "duration": 0.045469,
     "end_time": "2020-08-14T18:30:35.387647",
     "exception": false,
     "start_time": "2020-08-14T18:30:35.342178",
     "status": "completed"
    },
    "tags": []
   },
   "outputs": [
    {
     "data": {
      "text/plain": [
       "(7049, 31)"
      ]
     },
     "execution_count": 17,
     "metadata": {
      "tags": []
     },
     "output_type": "execute_result"
    }
   ],
   "source": [
    "train.fillna(method = 'ffill',inplace = True)\n",
    "train.isnull().any().value_counts()\n",
    "train.shape\n"
   ]
  },
  {
   "cell_type": "code",
   "execution_count": 188,
   "metadata": {
    "execution": {
     "iopub.execute_input": "2020-08-14T18:30:35.439158Z",
     "iopub.status.busy": "2020-08-14T18:30:35.438397Z",
     "iopub.status.idle": "2020-08-14T18:30:35.441636Z",
     "shell.execute_reply": "2020-08-14T18:30:35.441128Z"
    },
    "id": "X6096C7QaMiT",
    "papermill": {
     "duration": 0.032625,
     "end_time": "2020-08-14T18:30:35.441730",
     "exception": false,
     "start_time": "2020-08-14T18:30:35.409105",
     "status": "completed"
    },
    "tags": []
   },
   "outputs": [],
   "source": [
    "def process_img(data):\n",
    "    images = []\n",
    "    for idx, sample in data.iterrows():\n",
    "        image = np.array(sample['Image'].split(' '), dtype=int)\n",
    "        image = np.reshape(image, (96,96,1))\n",
    "        images.append(image)\n",
    "    return images\n",
    "\n"
   ]
  },
  {
   "cell_type": "code",
   "execution_count": 189,
   "metadata": {
    "execution": {
     "iopub.execute_input": "2020-08-14T18:30:35.490955Z",
     "iopub.status.busy": "2020-08-14T18:30:35.490171Z",
     "iopub.status.idle": "2020-08-14T18:30:35.492867Z",
     "shell.execute_reply": "2020-08-14T18:30:35.493388Z"
    },
    "id": "9AY9xvfKaMiU",
    "papermill": {
     "duration": 0.030182,
     "end_time": "2020-08-14T18:30:35.493502",
     "exception": false,
     "start_time": "2020-08-14T18:30:35.463320",
     "status": "completed"
    },
    "tags": []
   },
   "outputs": [],
   "source": [
    "def keypoints(data):\n",
    "    keypoint = data.drop('Image',axis = 1)\n",
    "    keypoint_features = []\n",
    "    for idx, sample_keypoints in keypoint.iterrows():\n",
    "        keypoint_features.append(sample_keypoints)\n",
    "    keypoint_features = np.array(keypoint_features, dtype = 'float')\n",
    "    return keypoint_features\n"
   ]
  },
  {
   "cell_type": "code",
   "execution_count": 190,
   "metadata": {
    "execution": {
     "iopub.execute_input": "2020-08-14T18:30:35.543284Z",
     "iopub.status.busy": "2020-08-14T18:30:35.542468Z",
     "iopub.status.idle": "2020-08-14T18:30:35.546475Z",
     "shell.execute_reply": "2020-08-14T18:30:35.545965Z"
    },
    "id": "TtPi3FeTaMiU",
    "papermill": {
     "duration": 0.031352,
     "end_time": "2020-08-14T18:30:35.546571",
     "exception": false,
     "start_time": "2020-08-14T18:30:35.515219",
     "status": "completed"
    },
    "tags": []
   },
   "outputs": [],
   "source": [
    "y_test = test.Image\n",
    "#y_test.head()"
   ]
  },
  {
   "cell_type": "code",
   "execution_count": 191,
   "metadata": {
    "id": "OCTmfXpwKVCy"
   },
   "outputs": [],
   "source": [
    "#len(train['Image'][1])"
   ]
  },
  {
   "cell_type": "code",
   "execution_count": 192,
   "metadata": {
    "colab": {
     "base_uri": "https://localhost:8080/"
    },
    "id": "47YeCaALLCjq",
    "outputId": "39e40061-ab6c-4475-d40d-9cc050ac852a"
   },
   "outputs": [
    {
     "data": {
      "text/plain": [
       "(7049, 96, 96, 1)"
      ]
     },
     "execution_count": 192,
     "metadata": {
      "tags": []
     },
     "output_type": "execute_result"
    }
   ],
   "source": [
    "X_train.shape"
   ]
  },
  {
   "cell_type": "code",
   "execution_count": 193,
   "metadata": {
    "execution": {
     "iopub.execute_input": "2020-08-14T18:30:35.595640Z",
     "iopub.status.busy": "2020-08-14T18:30:35.594721Z",
     "iopub.status.idle": "2020-08-14T18:31:02.432913Z",
     "shell.execute_reply": "2020-08-14T18:31:02.432068Z"
    },
    "id": "jgyHj2lTaMiV",
    "papermill": {
     "duration": 26.86433,
     "end_time": "2020-08-14T18:31:02.433061",
     "exception": false,
     "start_time": "2020-08-14T18:30:35.568731",
     "status": "completed"
    },
    "tags": []
   },
   "outputs": [],
   "source": [
    "X_train = process_img(train)\n",
    "y_train = keypoints(train)"
   ]
  },
  {
   "cell_type": "code",
   "execution_count": 196,
   "metadata": {
    "colab": {
     "base_uri": "https://localhost:8080/",
     "height": 268
    },
    "execution": {
     "iopub.execute_input": "2020-08-14T18:31:02.487527Z",
     "iopub.status.busy": "2020-08-14T18:31:02.486552Z",
     "iopub.status.idle": "2020-08-14T18:31:27.595163Z",
     "shell.execute_reply": "2020-08-14T18:31:27.596319Z"
    },
    "id": "U43mOsuQaMiV",
    "outputId": "4c389765-8836-47ca-e6ef-ff9a74b0b75a",
    "papermill": {
     "duration": 25.138829,
     "end_time": "2020-08-14T18:31:27.596505",
     "exception": false,
     "start_time": "2020-08-14T18:31:02.457676",
     "status": "completed"
    },
    "tags": []
   },
   "outputs": [
    {
     "data": {
      "image/png": "[encoded data removed]",
      "text/plain": [
       "<Figure size 432x288 with 1 Axes>"
      ]
     },
     "metadata": {
      "needs_background": "light",
      "tags": []
     },
     "output_type": "display_data"
    }
   ],
   "source": [
    "plt.imshow(image.reshape(96,96),cmap='gray')\n",
    "plt.show()"
   ]
  },
  {
   "cell_type": "markdown",
   "metadata": {
    "id": "3UeSx26QaMiX",
    "papermill": {
     "duration": 0.040016,
     "end_time": "2020-08-14T18:31:27.749243",
     "exception": false,
     "start_time": "2020-08-14T18:31:27.709227",
     "status": "completed"
    },
    "tags": []
   },
   "source": [
    "# **Modeling**"
   ]
  },
  {
   "cell_type": "code",
   "execution_count": 24,
   "metadata": {
    "execution": {
     "iopub.execute_input": "2020-08-14T18:31:27.909364Z",
     "iopub.status.busy": "2020-08-14T18:31:27.908442Z",
     "iopub.status.idle": "2020-08-14T18:31:36.597645Z",
     "shell.execute_reply": "2020-08-14T18:31:36.596952Z"
    },
    "id": "_TeQwgAFaMiY",
    "papermill": {
     "duration": 8.748366,
     "end_time": "2020-08-14T18:31:36.597762",
     "exception": false,
     "start_time": "2020-08-14T18:31:27.849396",
     "status": "completed"
    },
    "tags": []
   },
   "outputs": [],
   "source": [
    "import tensorflow as tf\n",
    "from keras.layers.advanced_activations import LeakyReLU\n",
    "from keras.layers import Conv2D,Dropout,Dense,Flatten\n",
    "from keras.layers import Activation, Convolution2D, MaxPooling2D, BatchNormalization, Conv2D,MaxPool2D, ZeroPadding2D\n",
    "from keras.models import Sequential, Model\n",
    "\n",
    "model = Sequential([Flatten(input_shape=(96,96)),\n",
    "                         Dense(128, activation=\"relu\"),\n",
    "                         Dropout(0.1),\n",
    "                         Dense(64, activation=\"relu\"),\n",
    "                         Dense(30)\n",
    "                         ])"
   ]
  },
  {
   "cell_type": "code",
   "execution_count": 25,
   "metadata": {
    "colab": {
     "base_uri": "https://localhost:8080/"
    },
    "execution": {
     "iopub.execute_input": "2020-08-14T18:31:36.729791Z",
     "iopub.status.busy": "2020-08-14T18:31:36.728704Z",
     "iopub.status.idle": "2020-08-14T18:31:37.226784Z",
     "shell.execute_reply": "2020-08-14T18:31:37.225923Z"
    },
    "id": "lA_OQYMaaMiZ",
    "outputId": "5c98ca3f-1bc5-4f51-c6b7-4bb6289deb81",
    "papermill": {
     "duration": 0.554242,
     "end_time": "2020-08-14T18:31:37.226965",
     "exception": false,
     "start_time": "2020-08-14T18:31:36.672723",
     "status": "completed"
    },
    "tags": []
   },
   "outputs": [
    {
     "name": "stdout",
     "output_type": "stream",
     "text": [
      "Model: \"sequential_1\"\n",
      "_________________________________________________________________\n",
      "Layer (type)                 Output Shape              Param #   \n",
      "=================================================================\n",
      "conv2d (Conv2D)              (None, 96, 96, 32)        288       \n",
      "_________________________________________________________________\n",
      "leaky_re_lu (LeakyReLU)      (None, 96, 96, 32)        0         \n",
      "_________________________________________________________________\n",
      "batch_normalization (BatchNo (None, 96, 96, 32)        128       \n",
      "_________________________________________________________________\n",
      "conv2d_1 (Conv2D)            (None, 96, 96, 32)        9216      \n",
      "_________________________________________________________________\n",
      "leaky_re_lu_1 (LeakyReLU)    (None, 96, 96, 32)        0         \n",
      "_________________________________________________________________\n",
      "batch_normalization_1 (Batch (None, 96, 96, 32)        128       \n",
      "_________________________________________________________________\n",
      "max_pooling2d (MaxPooling2D) (None, 48, 48, 32)        0         \n",
      "_________________________________________________________________\n",
      "conv2d_2 (Conv2D)            (None, 48, 48, 64)        18432     \n",
      "_________________________________________________________________\n",
      "leaky_re_lu_2 (LeakyReLU)    (None, 48, 48, 64)        0         \n",
      "_________________________________________________________________\n",
      "batch_normalization_2 (Batch (None, 48, 48, 64)        256       \n",
      "_________________________________________________________________\n",
      "conv2d_3 (Conv2D)            (None, 48, 48, 64)        36864     \n",
      "_________________________________________________________________\n",
      "leaky_re_lu_3 (LeakyReLU)    (None, 48, 48, 64)        0         \n",
      "_________________________________________________________________\n",
      "batch_normalization_3 (Batch (None, 48, 48, 64)        256       \n",
      "_________________________________________________________________\n",
      "max_pooling2d_1 (MaxPooling2 (None, 24, 24, 64)        0         \n",
      "_________________________________________________________________\n",
      "conv2d_4 (Conv2D)            (None, 24, 24, 96)        55296     \n",
      "_________________________________________________________________\n",
      "leaky_re_lu_4 (LeakyReLU)    (None, 24, 24, 96)        0         \n",
      "_________________________________________________________________\n",
      "batch_normalization_4 (Batch (None, 24, 24, 96)        384       \n",
      "_________________________________________________________________\n",
      "conv2d_5 (Conv2D)            (None, 24, 24, 96)        82944     \n",
      "_________________________________________________________________\n",
      "leaky_re_lu_5 (LeakyReLU)    (None, 24, 24, 96)        0         \n",
      "_________________________________________________________________\n",
      "batch_normalization_5 (Batch (None, 24, 24, 96)        384       \n",
      "_________________________________________________________________\n",
      "max_pooling2d_2 (MaxPooling2 (None, 12, 12, 96)        0         \n",
      "_________________________________________________________________\n",
      "conv2d_6 (Conv2D)            (None, 12, 12, 128)       110592    \n",
      "_________________________________________________________________\n",
      "leaky_re_lu_6 (LeakyReLU)    (None, 12, 12, 128)       0         \n",
      "_________________________________________________________________\n",
      "batch_normalization_6 (Batch (None, 12, 12, 128)       512       \n",
      "_________________________________________________________________\n",
      "conv2d_7 (Conv2D)            (None, 12, 12, 128)       147456    \n",
      "_________________________________________________________________\n",
      "leaky_re_lu_7 (LeakyReLU)    (None, 12, 12, 128)       0         \n",
      "_________________________________________________________________\n",
      "batch_normalization_7 (Batch (None, 12, 12, 128)       512       \n",
      "_________________________________________________________________\n",
      "max_pooling2d_3 (MaxPooling2 (None, 6, 6, 128)         0         \n",
      "_________________________________________________________________\n",
      "conv2d_8 (Conv2D)            (None, 6, 6, 256)         294912    \n",
      "_________________________________________________________________\n",
      "leaky_re_lu_8 (LeakyReLU)    (None, 6, 6, 256)         0         \n",
      "_________________________________________________________________\n",
      "batch_normalization_8 (Batch (None, 6, 6, 256)         1024      \n",
      "_________________________________________________________________\n",
      "conv2d_9 (Conv2D)            (None, 6, 6, 256)         589824    \n",
      "_________________________________________________________________\n",
      "leaky_re_lu_9 (LeakyReLU)    (None, 6, 6, 256)         0         \n",
      "_________________________________________________________________\n",
      "batch_normalization_9 (Batch (None, 6, 6, 256)         1024      \n",
      "_________________________________________________________________\n",
      "max_pooling2d_4 (MaxPooling2 (None, 3, 3, 256)         0         \n",
      "_________________________________________________________________\n",
      "conv2d_10 (Conv2D)           (None, 3, 3, 512)         1179648   \n",
      "_________________________________________________________________\n",
      "leaky_re_lu_10 (LeakyReLU)   (None, 3, 3, 512)         0         \n",
      "_________________________________________________________________\n",
      "batch_normalization_10 (Batc (None, 3, 3, 512)         2048      \n",
      "_________________________________________________________________\n",
      "conv2d_11 (Conv2D)           (None, 3, 3, 512)         2359296   \n",
      "_________________________________________________________________\n",
      "leaky_re_lu_11 (LeakyReLU)   (None, 3, 3, 512)         0         \n",
      "_________________________________________________________________\n",
      "batch_normalization_11 (Batc (None, 3, 3, 512)         2048      \n",
      "_________________________________________________________________\n",
      "flatten_1 (Flatten)          (None, 4608)              0         \n",
      "_________________________________________________________________\n",
      "dense_3 (Dense)              (None, 512)               2359808   \n",
      "_________________________________________________________________\n",
      "dropout_1 (Dropout)          (None, 512)               0         \n",
      "_________________________________________________________________\n",
      "dense_4 (Dense)              (None, 30)                15390     \n",
      "=================================================================\n",
      "Total params: 7,268,670\n",
      "Trainable params: 7,264,318\n",
      "Non-trainable params: 4,352\n",
      "_________________________________________________________________\n"
     ]
    }
   ],
   "source": [
    "model = Sequential()\n",
    "\n",
    "model.add(Convolution2D(32, (3,3), padding='same', use_bias=False, input_shape=(96,96,1)))\n",
    "model.add(LeakyReLU(alpha = 0.1))\n",
    "model.add(BatchNormalization())\n",
    "\n",
    "model.add(Convolution2D(32, (3,3), padding='same', use_bias=False))\n",
    "model.add(LeakyReLU(alpha = 0.1))\n",
    "model.add(BatchNormalization())\n",
    "model.add(MaxPool2D(pool_size=(2, 2)))\n",
    "\n",
    "model.add(Convolution2D(64, (3,3), padding='same', use_bias=False))\n",
    "model.add(LeakyReLU(alpha = 0.1))\n",
    "model.add(BatchNormalization())\n",
    "\n",
    "model.add(Convolution2D(64, (3,3), padding='same', use_bias=False))\n",
    "model.add(LeakyReLU(alpha = 0.1))\n",
    "model.add(BatchNormalization())\n",
    "model.add(MaxPool2D(pool_size=(2, 2)))\n",
    "\n",
    "model.add(Convolution2D(96, (3,3), padding='same', use_bias=False))\n",
    "model.add(LeakyReLU(alpha = 0.1))\n",
    "model.add(BatchNormalization())\n",
    "\n",
    "model.add(Convolution2D(96, (3,3), padding='same', use_bias=False))\n",
    "model.add(LeakyReLU(alpha = 0.1))\n",
    "model.add(BatchNormalization())\n",
    "model.add(MaxPool2D(pool_size=(2, 2)))\n",
    "\n",
    "model.add(Convolution2D(128, (3,3),padding='same', use_bias=False))\n",
    "# model.add(BatchNormalization())\n",
    "model.add(LeakyReLU(alpha = 0.1))\n",
    "model.add(BatchNormalization())\n",
    "\n",
    "model.add(Convolution2D(128, (3,3),padding='same', use_bias=False))\n",
    "model.add(LeakyReLU(alpha = 0.1))\n",
    "model.add(BatchNormalization())\n",
    "model.add(MaxPool2D(pool_size=(2, 2)))\n",
    "\n",
    "model.add(Convolution2D(256, (3,3),padding='same',use_bias=False))\n",
    "model.add(LeakyReLU(alpha = 0.1))\n",
    "model.add(BatchNormalization())\n",
    "\n",
    "model.add(Convolution2D(256, (3,3),padding='same',use_bias=False))\n",
    "model.add(LeakyReLU(alpha = 0.1))\n",
    "model.add(BatchNormalization())\n",
    "model.add(MaxPool2D(pool_size=(2, 2)))\n",
    "\n",
    "model.add(Convolution2D(512, (3,3), padding='same', use_bias=False))\n",
    "model.add(LeakyReLU(alpha = 0.1))\n",
    "model.add(BatchNormalization())\n",
    "\n",
    "model.add(Convolution2D(512, (3,3), padding='same', use_bias=False))\n",
    "model.add(LeakyReLU(alpha = 0.1))\n",
    "model.add(BatchNormalization())\n",
    "\n",
    "\n",
    "model.add(Flatten())\n",
    "model.add(Dense(512,activation='relu'))\n",
    "model.add(Dropout(0.5))\n",
    "model.add(Dense(30))\n",
    "\n",
    "model.compile(optimizer='adam', \n",
    "              loss='mean_squared_error',\n",
    "              metrics=['mae', 'acc'])\n",
    "\n",
    "model.summary()"
   ]
  },
  {
   "cell_type": "markdown",
   "metadata": {
    "id": "c_MRo2RNaMia",
    "papermill": {
     "duration": 0.024297,
     "end_time": "2020-08-14T18:31:37.281612",
     "exception": false,
     "start_time": "2020-08-14T18:31:37.257315",
     "status": "completed"
    },
    "tags": []
   },
   "source": [
    "**Fit the model!**"
   ]
  },
  {
   "cell_type": "code",
   "execution_count": 33,
   "metadata": {
    "colab": {
     "base_uri": "https://localhost:8080/"
    },
    "execution": {
     "iopub.execute_input": "2020-08-14T18:31:37.336512Z",
     "iopub.status.busy": "2020-08-14T18:31:37.335690Z",
     "iopub.status.idle": "2020-08-14T18:34:06.436586Z",
     "shell.execute_reply": "2020-08-14T18:34:06.435947Z"
    },
    "id": "L6ebhLRnaMib",
    "outputId": "8a06799a-96d6-44d1-a38e-adacdc396d51",
    "papermill": {
     "duration": 149.130207,
     "end_time": "2020-08-14T18:34:06.436738",
     "exception": false,
     "start_time": "2020-08-14T18:31:37.306531",
     "status": "completed"
    },
    "tags": []
   },
   "outputs": [
    {
     "name": "stdout",
     "output_type": "stream",
     "text": [
      "Epoch 1/40\n",
      "23/23 [==============================] - 3s 132ms/step - loss: 30.5164 - mae: 4.1715 - acc: 0.5242 - val_loss: 37.8570 - val_mae: 5.5751 - val_acc: 0.7078\n",
      "Epoch 2/40\n",
      "23/23 [==============================] - 3s 129ms/step - loss: 32.1676 - mae: 4.2759 - acc: 0.5274 - val_loss: 4.5814 - val_mae: 1.3508 - val_acc: 0.7121\n",
      "Epoch 3/40\n",
      "23/23 [==============================] - 3s 129ms/step - loss: 29.3579 - mae: 4.0686 - acc: 0.5121 - val_loss: 4.9786 - val_mae: 1.3810 - val_acc: 0.7305\n",
      "Epoch 4/40\n",
      "23/23 [==============================] - 3s 129ms/step - loss: 30.2886 - mae: 4.1498 - acc: 0.5187 - val_loss: 5.4794 - val_mae: 1.5812 - val_acc: 0.7177\n",
      "Epoch 5/40\n",
      "23/23 [==============================] - 3s 129ms/step - loss: 28.0717 - mae: 3.9808 - acc: 0.5529 - val_loss: 4.6793 - val_mae: 1.3259 - val_acc: 0.7397\n",
      "Epoch 6/40\n",
      "23/23 [==============================] - 3s 129ms/step - loss: 28.1336 - mae: 3.9942 - acc: 0.5453 - val_loss: 6.0181 - val_mae: 1.7675 - val_acc: 0.7277\n",
      "Epoch 7/40\n",
      "23/23 [==============================] - 3s 128ms/step - loss: 27.0749 - mae: 3.9097 - acc: 0.5760 - val_loss: 15.1963 - val_mae: 3.2616 - val_acc: 0.7553\n",
      "Epoch 8/40\n",
      "23/23 [==============================] - 3s 129ms/step - loss: 29.2341 - mae: 4.0645 - acc: 0.5524 - val_loss: 5.0099 - val_mae: 1.4799 - val_acc: 0.7348\n",
      "Epoch 9/40\n",
      "23/23 [==============================] - 3s 129ms/step - loss: 25.7619 - mae: 3.8083 - acc: 0.5653 - val_loss: 5.0314 - val_mae: 1.5800 - val_acc: 0.7248\n",
      "Epoch 10/40\n",
      "23/23 [==============================] - 3s 129ms/step - loss: 26.3039 - mae: 3.8458 - acc: 0.5526 - val_loss: 30.9424 - val_mae: 4.8547 - val_acc: 0.7355\n",
      "Epoch 11/40\n",
      "23/23 [==============================] - 3s 129ms/step - loss: 31.2396 - mae: 4.1847 - acc: 0.5641 - val_loss: 5.1930 - val_mae: 1.6201 - val_acc: 0.7142\n",
      "Epoch 12/40\n",
      "23/23 [==============================] - 3s 129ms/step - loss: 25.7235 - mae: 3.7948 - acc: 0.6111 - val_loss: 4.4537 - val_mae: 1.3793 - val_acc: 0.7170\n",
      "Epoch 13/40\n",
      "23/23 [==============================] - 3s 129ms/step - loss: 25.9453 - mae: 3.8061 - acc: 0.6038 - val_loss: 4.8589 - val_mae: 1.3947 - val_acc: 0.7248\n",
      "Epoch 14/40\n",
      "23/23 [==============================] - 3s 129ms/step - loss: 26.7299 - mae: 3.8684 - acc: 0.5957 - val_loss: 10.9720 - val_mae: 2.7074 - val_acc: 0.7355\n",
      "Epoch 15/40\n",
      "23/23 [==============================] - 3s 129ms/step - loss: 26.3972 - mae: 3.8353 - acc: 0.5973 - val_loss: 11.3593 - val_mae: 2.7388 - val_acc: 0.7184\n",
      "Epoch 16/40\n",
      "23/23 [==============================] - 3s 129ms/step - loss: 26.4121 - mae: 3.8481 - acc: 0.6127 - val_loss: 32.4905 - val_mae: 4.7841 - val_acc: 0.5582\n",
      "Epoch 17/40\n",
      "23/23 [==============================] - 3s 129ms/step - loss: 34.4084 - mae: 4.4338 - acc: 0.5836 - val_loss: 9.7559 - val_mae: 2.4755 - val_acc: 0.7390\n",
      "Epoch 18/40\n",
      "23/23 [==============================] - 3s 129ms/step - loss: 26.5984 - mae: 3.8486 - acc: 0.6028 - val_loss: 8.2810 - val_mae: 2.1806 - val_acc: 0.7241\n",
      "Epoch 19/40\n",
      "23/23 [==============================] - 3s 129ms/step - loss: 27.7003 - mae: 3.9334 - acc: 0.6228 - val_loss: 5.4066 - val_mae: 1.5705 - val_acc: 0.7234\n",
      "Epoch 20/40\n",
      "23/23 [==============================] - 3s 130ms/step - loss: 24.5268 - mae: 3.6804 - acc: 0.6225 - val_loss: 47.4692 - val_mae: 6.2237 - val_acc: 0.7440\n",
      "Epoch 21/40\n",
      "23/23 [==============================] - 3s 129ms/step - loss: 36.3380 - mae: 4.5485 - acc: 0.6361 - val_loss: 8.4537 - val_mae: 2.2711 - val_acc: 0.7369\n",
      "Epoch 22/40\n",
      "23/23 [==============================] - 3s 129ms/step - loss: 26.7682 - mae: 3.8607 - acc: 0.6496 - val_loss: 11.0234 - val_mae: 2.6666 - val_acc: 0.7504\n",
      "Epoch 23/40\n",
      "23/23 [==============================] - 3s 129ms/step - loss: 27.4889 - mae: 3.9268 - acc: 0.6262 - val_loss: 8.9275 - val_mae: 2.3044 - val_acc: 0.7511\n",
      "Epoch 24/40\n",
      "23/23 [==============================] - 3s 129ms/step - loss: 25.6289 - mae: 3.7758 - acc: 0.6228 - val_loss: 4.9283 - val_mae: 1.4703 - val_acc: 0.7596\n",
      "Epoch 25/40\n",
      "23/23 [==============================] - 3s 129ms/step - loss: 24.6549 - mae: 3.6992 - acc: 0.6547 - val_loss: 3.8571 - val_mae: 1.1357 - val_acc: 0.7397\n",
      "Epoch 26/40\n",
      "23/23 [==============================] - 3s 129ms/step - loss: 24.5144 - mae: 3.6684 - acc: 0.6464 - val_loss: 4.2385 - val_mae: 1.2603 - val_acc: 0.7468\n",
      "Epoch 27/40\n",
      "23/23 [==============================] - 3s 129ms/step - loss: 23.5545 - mae: 3.6079 - acc: 0.6542 - val_loss: 19.9667 - val_mae: 3.9013 - val_acc: 0.7298\n",
      "Epoch 28/40\n",
      "23/23 [==============================] - 3s 129ms/step - loss: 27.1596 - mae: 3.9019 - acc: 0.6835 - val_loss: 10.7915 - val_mae: 2.6211 - val_acc: 0.7511\n",
      "Epoch 29/40\n",
      "23/23 [==============================] - 3s 130ms/step - loss: 26.2589 - mae: 3.8274 - acc: 0.6716 - val_loss: 11.7736 - val_mae: 2.8658 - val_acc: 0.7291\n",
      "Epoch 30/40\n",
      "23/23 [==============================] - 3s 129ms/step - loss: 24.3931 - mae: 3.6734 - acc: 0.6728 - val_loss: 5.3726 - val_mae: 1.6409 - val_acc: 0.7546\n",
      "Epoch 31/40\n",
      "23/23 [==============================] - 3s 129ms/step - loss: 23.3450 - mae: 3.5891 - acc: 0.6627 - val_loss: 4.8452 - val_mae: 1.3811 - val_acc: 0.7177\n",
      "Epoch 32/40\n",
      "23/23 [==============================] - 3s 129ms/step - loss: 23.5646 - mae: 3.6082 - acc: 0.6581 - val_loss: 8.5225 - val_mae: 2.2436 - val_acc: 0.7525\n",
      "Epoch 33/40\n",
      "23/23 [==============================] - 3s 129ms/step - loss: 25.3989 - mae: 3.7635 - acc: 0.6755 - val_loss: 5.2626 - val_mae: 1.6342 - val_acc: 0.7489\n",
      "Epoch 34/40\n",
      "23/23 [==============================] - 3s 129ms/step - loss: 22.4835 - mae: 3.5217 - acc: 0.6847 - val_loss: 6.6817 - val_mae: 1.8297 - val_acc: 0.7511\n",
      "Epoch 35/40\n",
      "23/23 [==============================] - 3s 129ms/step - loss: 25.0788 - mae: 3.7395 - acc: 0.6861 - val_loss: 31.8938 - val_mae: 4.8876 - val_acc: 0.7270\n",
      "Epoch 36/40\n",
      "23/23 [==============================] - 3s 129ms/step - loss: 29.0927 - mae: 4.0399 - acc: 0.6806 - val_loss: 10.8923 - val_mae: 2.6728 - val_acc: 0.7681\n",
      "Epoch 37/40\n",
      "23/23 [==============================] - 3s 129ms/step - loss: 26.9130 - mae: 3.8882 - acc: 0.6900 - val_loss: 3.7807 - val_mae: 1.1200 - val_acc: 0.7482\n",
      "Epoch 38/40\n",
      "23/23 [==============================] - 3s 129ms/step - loss: 22.8737 - mae: 3.5450 - acc: 0.7058 - val_loss: 5.1115 - val_mae: 1.5408 - val_acc: 0.7525\n",
      "Epoch 39/40\n",
      "23/23 [==============================] - 3s 129ms/step - loss: 22.6570 - mae: 3.5486 - acc: 0.7044 - val_loss: 6.4705 - val_mae: 1.9305 - val_acc: 0.7078\n",
      "Epoch 40/40\n",
      "23/23 [==============================] - 3s 129ms/step - loss: 23.2122 - mae: 3.5823 - acc: 0.6898 - val_loss: 7.8394 - val_mae: 2.1316 - val_acc: 0.7482\n"
     ]
    },
    {
     "data": {
      "text/plain": [
       "<keras.callbacks.History at 0x7f9bb8928fd0>"
      ]
     },
     "execution_count": 33,
     "metadata": {
      "tags": []
     },
     "output_type": "execute_result"
    }
   ],
   "source": [
    "model.fit(X_train,y_train,epochs = 40,batch_size = 256,validation_split = 0.2)"
   ]
  },
  {
   "cell_type": "code",
   "execution_count": 34,
   "metadata": {
    "colab": {
     "base_uri": "https://localhost:8080/"
    },
    "execution": {
     "iopub.execute_input": "2020-08-14T18:34:06.778897Z",
     "iopub.status.busy": "2020-08-14T18:34:06.771771Z",
     "iopub.status.idle": "2020-08-14T18:34:06.786236Z",
     "shell.execute_reply": "2020-08-14T18:34:06.785637Z"
    },
    "id": "0-VlzaZ_aMic",
    "outputId": "d4e940a9-44fb-4d0a-a35d-b093c7e99dd7",
    "papermill": {
     "duration": 0.098379,
     "end_time": "2020-08-14T18:34:06.786377",
     "exception": false,
     "start_time": "2020-08-14T18:34:06.687998",
     "status": "completed"
    },
    "tags": []
   },
   "outputs": [
    {
     "data": {
      "text/plain": [
       "array([[[[0.93333333],\n",
       "         [0.9254902 ],\n",
       "         [0.92941176],\n",
       "         ...,\n",
       "         [0.98039216],\n",
       "         [0.98039216],\n",
       "         [0.98039216]],\n",
       "\n",
       "        [[0.92156863],\n",
       "         [0.93333333],\n",
       "         [0.9254902 ],\n",
       "         ...,\n",
       "         [0.97647059],\n",
       "         [0.98039216],\n",
       "         [0.98431373]],\n",
       "\n",
       "        [[0.92941176],\n",
       "         [0.9254902 ],\n",
       "         [0.92941176],\n",
       "         ...,\n",
       "         [0.98431373],\n",
       "         [0.98431373],\n",
       "         [0.98039216]],\n",
       "\n",
       "        ...,\n",
       "\n",
       "        [[0.72941176],\n",
       "         [0.71764706],\n",
       "         [0.70980392],\n",
       "         ...,\n",
       "         [0.20392157],\n",
       "         [0.22352941],\n",
       "         [0.23529412]],\n",
       "\n",
       "        [[0.74117647],\n",
       "         [0.7372549 ],\n",
       "         [0.81176471],\n",
       "         ...,\n",
       "         [0.23921569],\n",
       "         [0.27058824],\n",
       "         [0.30588235]],\n",
       "\n",
       "        [[0.74901961],\n",
       "         [0.72156863],\n",
       "         [0.72156863],\n",
       "         ...,\n",
       "         [0.2745098 ],\n",
       "         [0.29411765],\n",
       "         [0.35294118]]],\n",
       "\n",
       "\n",
       "       [[[0.85882353],\n",
       "         [0.84313725],\n",
       "         [0.8       ],\n",
       "         ...,\n",
       "         [0.36078431],\n",
       "         [0.34509804],\n",
       "         [0.32941176]],\n",
       "\n",
       "        [[0.87058824],\n",
       "         [0.85882353],\n",
       "         [0.8627451 ],\n",
       "         ...,\n",
       "         [0.36078431],\n",
       "         [0.34509804],\n",
       "         [0.3372549 ]],\n",
       "\n",
       "        [[0.90588235],\n",
       "         [0.87843137],\n",
       "         [0.83137255],\n",
       "         ...,\n",
       "         [0.30196078],\n",
       "         [0.31372549],\n",
       "         [0.32941176]],\n",
       "\n",
       "        ...,\n",
       "\n",
       "        [[0.00392157],\n",
       "         [0.00392157],\n",
       "         [0.00392157],\n",
       "         ...,\n",
       "         [0.00392157],\n",
       "         [0.00392157],\n",
       "         [0.00392157]],\n",
       "\n",
       "        [[0.00392157],\n",
       "         [0.00392157],\n",
       "         [0.00392157],\n",
       "         ...,\n",
       "         [0.00392157],\n",
       "         [0.00392157],\n",
       "         [0.00392157]],\n",
       "\n",
       "        [[0.00392157],\n",
       "         [0.00392157],\n",
       "         [0.00392157],\n",
       "         ...,\n",
       "         [0.00392157],\n",
       "         [0.00392157],\n",
       "         [0.00392157]]],\n",
       "\n",
       "\n",
       "       [[[0.56470588],\n",
       "         [0.55686275],\n",
       "         [0.62352941],\n",
       "         ...,\n",
       "         [0.81568627],\n",
       "         [0.81176471],\n",
       "         [0.81176471]],\n",
       "\n",
       "        [[0.56078431],\n",
       "         [0.55686275],\n",
       "         [0.63137255],\n",
       "         ...,\n",
       "         [0.81568627],\n",
       "         [0.81568627],\n",
       "         [0.81176471]],\n",
       "\n",
       "        [[0.56078431],\n",
       "         [0.54901961],\n",
       "         [0.62745098],\n",
       "         ...,\n",
       "         [0.81960784],\n",
       "         [0.81960784],\n",
       "         [0.81176471]],\n",
       "\n",
       "        ...,\n",
       "\n",
       "        [[0.25882353],\n",
       "         [0.2745098 ],\n",
       "         [0.27058824],\n",
       "         ...,\n",
       "         [0.31764706],\n",
       "         [0.5254902 ],\n",
       "         [0.76078431]],\n",
       "\n",
       "        [[0.25490196],\n",
       "         [0.27058824],\n",
       "         [0.27843137],\n",
       "         ...,\n",
       "         [0.29411765],\n",
       "         [0.3254902 ],\n",
       "         [0.42745098]],\n",
       "\n",
       "        [[0.25490196],\n",
       "         [0.26666667],\n",
       "         [0.2745098 ],\n",
       "         ...,\n",
       "         [0.30588235],\n",
       "         [0.30588235],\n",
       "         [0.30196078]]],\n",
       "\n",
       "\n",
       "       ...,\n",
       "\n",
       "\n",
       "       [[[0.29019608],\n",
       "         [0.29019608],\n",
       "         [0.29019608],\n",
       "         ...,\n",
       "         [0.26666667],\n",
       "         [0.23529412],\n",
       "         [0.25098039]],\n",
       "\n",
       "        [[0.29019608],\n",
       "         [0.29019608],\n",
       "         [0.29019608],\n",
       "         ...,\n",
       "         [0.2627451 ],\n",
       "         [0.24705882],\n",
       "         [0.24313725]],\n",
       "\n",
       "        [[0.29019608],\n",
       "         [0.29019608],\n",
       "         [0.29019608],\n",
       "         ...,\n",
       "         [0.27058824],\n",
       "         [0.25882353],\n",
       "         [0.23529412]],\n",
       "\n",
       "        ...,\n",
       "\n",
       "        [[0.09411765],\n",
       "         [0.09411765],\n",
       "         [0.09411765],\n",
       "         ...,\n",
       "         [0.07843137],\n",
       "         [0.07843137],\n",
       "         [0.07843137]],\n",
       "\n",
       "        [[0.09803922],\n",
       "         [0.09803922],\n",
       "         [0.09803922],\n",
       "         ...,\n",
       "         [0.07843137],\n",
       "         [0.07843137],\n",
       "         [0.07843137]],\n",
       "\n",
       "        [[0.09803922],\n",
       "         [0.09803922],\n",
       "         [0.09803922],\n",
       "         ...,\n",
       "         [0.07843137],\n",
       "         [0.07843137],\n",
       "         [0.07843137]]],\n",
       "\n",
       "\n",
       "       [[[0.99607843],\n",
       "         [0.99607843],\n",
       "         [0.99607843],\n",
       "         ...,\n",
       "         [0.98039216],\n",
       "         [0.99215686],\n",
       "         [0.99607843]],\n",
       "\n",
       "        [[0.99607843],\n",
       "         [0.99607843],\n",
       "         [0.99607843],\n",
       "         ...,\n",
       "         [0.96078431],\n",
       "         [0.99215686],\n",
       "         [0.99607843]],\n",
       "\n",
       "        [[0.99607843],\n",
       "         [0.99607843],\n",
       "         [0.99607843],\n",
       "         ...,\n",
       "         [0.97254902],\n",
       "         [0.99215686],\n",
       "         [0.99607843]],\n",
       "\n",
       "        ...,\n",
       "\n",
       "        [[0.99607843],\n",
       "         [0.99607843],\n",
       "         [0.99607843],\n",
       "         ...,\n",
       "         [0.99607843],\n",
       "         [0.99607843],\n",
       "         [0.99607843]],\n",
       "\n",
       "        [[0.99607843],\n",
       "         [0.99607843],\n",
       "         [0.99607843],\n",
       "         ...,\n",
       "         [0.99607843],\n",
       "         [0.99607843],\n",
       "         [0.99607843]],\n",
       "\n",
       "        [[0.99607843],\n",
       "         [0.99607843],\n",
       "         [0.99607843],\n",
       "         ...,\n",
       "         [0.99607843],\n",
       "         [0.99607843],\n",
       "         [0.99607843]]],\n",
       "\n",
       "\n",
       "       [[[0.20784314],\n",
       "         [0.24313725],\n",
       "         [0.2627451 ],\n",
       "         ...,\n",
       "         [0.47058824],\n",
       "         [0.45882353],\n",
       "         [0.38039216]],\n",
       "\n",
       "        [[0.20784314],\n",
       "         [0.25098039],\n",
       "         [0.2745098 ],\n",
       "         ...,\n",
       "         [0.44705882],\n",
       "         [0.44313725],\n",
       "         [0.37647059]],\n",
       "\n",
       "        [[0.23529412],\n",
       "         [0.2745098 ],\n",
       "         [0.30196078],\n",
       "         ...,\n",
       "         [0.41568627],\n",
       "         [0.42352941],\n",
       "         [0.36862745]],\n",
       "\n",
       "        ...,\n",
       "\n",
       "        [[0.16078431],\n",
       "         [0.21960784],\n",
       "         [0.30196078],\n",
       "         ...,\n",
       "         [0.62352941],\n",
       "         [0.60784314],\n",
       "         [0.6       ]],\n",
       "\n",
       "        [[0.16078431],\n",
       "         [0.18823529],\n",
       "         [0.2627451 ],\n",
       "         ...,\n",
       "         [0.62352941],\n",
       "         [0.61568627],\n",
       "         [0.61568627]],\n",
       "\n",
       "        [[0.18039216],\n",
       "         [0.17254902],\n",
       "         [0.21960784],\n",
       "         ...,\n",
       "         [0.61960784],\n",
       "         [0.61960784],\n",
       "         [0.62352941]]]])"
      ]
     },
     "execution_count": 34,
     "metadata": {
      "tags": []
     },
     "output_type": "execute_result"
    }
   ],
   "source": [
    "X_train"
   ]
  },
  {
   "cell_type": "code",
   "execution_count": 215,
   "metadata": {
    "execution": {
     "iopub.execute_input": "2020-08-14T18:34:06.975206Z",
     "iopub.status.busy": "2020-08-14T18:34:06.974532Z",
     "iopub.status.idle": "2020-08-14T18:34:38.483890Z",
     "shell.execute_reply": "2020-08-14T18:34:38.483202Z"
    },
    "id": "pa8C8G5HaMie",
    "papermill": {
     "duration": 31.602918,
     "end_time": "2020-08-14T18:34:38.484026",
     "exception": false,
     "start_time": "2020-08-14T18:34:06.881108",
     "status": "completed"
    },
    "tags": []
   },
   "outputs": [],
   "source": [
    "X_train = process_img(train)\n",
    "y_test = process_img(test)"
   ]
  },
  {
   "cell_type": "code",
   "execution_count": 216,
   "metadata": {
    "id": "KYG88veIxte5"
   },
   "outputs": [],
   "source": [
    "y_list = list(y_test)"
   ]
  },
  {
   "cell_type": "code",
   "execution_count": 217,
   "metadata": {
    "id": "6Y1usIt7yroR"
   },
   "outputs": [],
   "source": [
    "y_list.append(image)"
   ]
  },
  {
   "cell_type": "code",
   "execution_count": 218,
   "metadata": {
    "colab": {
     "base_uri": "https://localhost:8080/"
    },
    "id": "cj1sTtLczh5g",
    "outputId": "c9a00cbb-1471-4ace-b292-7947dc44cc09"
   },
   "outputs": [
    {
     "data": {
      "text/plain": [
       "(1784, 96, 96, 1)"
      ]
     },
     "execution_count": 218,
     "metadata": {
      "tags": []
     },
     "output_type": "execute_result"
    }
   ],
   "source": [
    "yy = np.array(y_list)\n",
    "images = np.array(yy)/255.\n",
    "y_test = images\n",
    "y_test.shape"
   ]
  },
  {
   "cell_type": "code",
   "execution_count": 203,
   "metadata": {
    "colab": {
     "base_uri": "https://localhost:8080/"
    },
    "execution": {
     "iopub.execute_input": "2020-08-14T18:34:38.653377Z",
     "iopub.status.busy": "2020-08-14T18:34:38.652092Z",
     "iopub.status.idle": "2020-08-14T18:34:39.622342Z",
     "shell.execute_reply": "2020-08-14T18:34:39.623065Z"
    },
    "id": "C60C7u3UaMif",
    "outputId": "9334203d-8916-48cf-ab3c-4b6e4c4e5234",
    "papermill": {
     "duration": 1.056735,
     "end_time": "2020-08-14T18:34:39.623304",
     "exception": false,
     "start_time": "2020-08-14T18:34:38.566569",
     "status": "completed"
    },
    "tags": []
   },
   "outputs": [
    {
     "name": "stdout",
     "output_type": "stream",
     "text": [
      "[[65.35017  35.554276 28.559128 ... 68.135956 45.99967  82.149216]\n",
      " [65.03325  35.87982  28.103146 ... 72.714035 47.048126 82.7405  ]\n",
      " [65.26722  35.83922  29.044052 ... 71.68976  48.425114 81.959915]\n",
      " ...\n",
      " [62.74259  36.557602 28.942173 ... 73.055984 45.714405 74.460106]\n",
      " [64.202835 36.99888  28.983871 ... 74.964935 46.83648  76.94611 ]\n",
      " [63.00721  33.2494   27.770988 ... 67.643295 46.947025 74.26809 ]]\n"
     ]
    }
   ],
   "source": [
    "preds = model.predict(y_test)\n",
    "print(preds)"
   ]
  },
  {
   "cell_type": "code",
   "execution_count": 204,
   "metadata": {
    "execution": {
     "iopub.execute_input": "2020-08-14T18:34:39.840981Z",
     "iopub.status.busy": "2020-08-14T18:34:39.840192Z",
     "iopub.status.idle": "2020-08-14T18:34:39.844290Z",
     "shell.execute_reply": "2020-08-14T18:34:39.843741Z"
    },
    "id": "RZ9LK77caMig",
    "papermill": {
     "duration": 0.092694,
     "end_time": "2020-08-14T18:34:39.844413",
     "exception": false,
     "start_time": "2020-08-14T18:34:39.751719",
     "status": "completed"
    },
    "tags": []
   },
   "outputs": [],
   "source": [
    "def plot_sample(image, keypoint, axis, title):\n",
    "    image = image.reshape(96,96)\n",
    "    axis.imshow(image, cmap='gray')\n",
    "    axis.scatter(keypoint[0::2], keypoint[1::2], marker='x', s=20)\n",
    "    plt.title(title)"
   ]
  },
  {
   "cell_type": "code",
   "execution_count": 206,
   "metadata": {
    "colab": {
     "base_uri": "https://localhost:8080/",
     "height": 223
    },
    "execution": {
     "iopub.execute_input": "2020-08-14T18:34:40.019283Z",
     "iopub.status.busy": "2020-08-14T18:34:40.018222Z",
     "iopub.status.idle": "2020-08-14T18:34:41.283318Z",
     "shell.execute_reply": "2020-08-14T18:34:41.283842Z"
    },
    "id": "y-5X5zRRaMig",
    "outputId": "bc159a3a-6d26-453e-8074-98179879913e",
    "papermill": {
     "duration": 1.354443,
     "end_time": "2020-08-14T18:34:41.283998",
     "exception": false,
     "start_time": "2020-08-14T18:34:39.929555",
     "status": "completed"
    },
    "tags": []
   },
   "outputs": [
    {
     "data": {
      "image/png": "[encoded data removed]",
      "text/plain": [
       "<Figure size 1440x1152 with 3 Axes>"
      ]
     },
     "metadata": {
      "tags": []
     },
     "output_type": "display_data"
    }
   ],
   "source": [
    "fig = plt.figure(figsize=(20,16))\n",
    "for i in range(1,4):\n",
    "    axis = fig.add_subplot(4, 5, i+1, xticks=[], yticks=[])\n",
    "    plot_sample(yy[1780+i], preds[1780+i], axis, \"\")\n",
    "plt.show()"
   ]
  },
  {
   "cell_type": "code",
   "execution_count": 39,
   "metadata": {
    "colab": {
     "base_uri": "https://localhost:8080/",
     "height": 204
    },
    "execution": {
     "iopub.execute_input": "2020-08-14T18:34:41.469646Z",
     "iopub.status.busy": "2020-08-14T18:34:41.468598Z",
     "iopub.status.idle": "2020-08-14T18:34:41.472715Z",
     "shell.execute_reply": "2020-08-14T18:34:41.473385Z"
    },
    "id": "opmGPKY7aMih",
    "outputId": "a04f92c8-cdec-4ffd-c9ec-1aa720ed9687",
    "papermill": {
     "duration": 0.103584,
     "end_time": "2020-08-14T18:34:41.473545",
     "exception": false,
     "start_time": "2020-08-14T18:34:41.369961",
     "status": "completed"
    },
    "tags": []
   },
   "outputs": [
    {
     "data": {
      "text/html": [
       "<div>\n",
       "<style scoped>\n",
       "    .dataframe tbody tr th:only-of-type {\n",
       "        vertical-align: middle;\n",
       "    }\n",
       "\n",
       "    .dataframe tbody tr th {\n",
       "        vertical-align: top;\n",
       "    }\n",
       "\n",
       "    .dataframe thead th {\n",
       "        text-align: right;\n",
       "    }\n",
       "</style>\n",
       "<table border=\"1\" class=\"dataframe\">\n",
       "  <thead>\n",
       "    <tr style=\"text-align: right;\">\n",
       "      <th></th>\n",
       "      <th>RowId</th>\n",
       "      <th>ImageId</th>\n",
       "      <th>FeatureName</th>\n",
       "      <th>Location</th>\n",
       "    </tr>\n",
       "  </thead>\n",
       "  <tbody>\n",
       "    <tr>\n",
       "      <th>0</th>\n",
       "      <td>1</td>\n",
       "      <td>1</td>\n",
       "      <td>left_eye_center_x</td>\n",
       "      <td>NaN</td>\n",
       "    </tr>\n",
       "    <tr>\n",
       "      <th>1</th>\n",
       "      <td>2</td>\n",
       "      <td>1</td>\n",
       "      <td>left_eye_center_y</td>\n",
       "      <td>NaN</td>\n",
       "    </tr>\n",
       "    <tr>\n",
       "      <th>2</th>\n",
       "      <td>3</td>\n",
       "      <td>1</td>\n",
       "      <td>right_eye_center_x</td>\n",
       "      <td>NaN</td>\n",
       "    </tr>\n",
       "    <tr>\n",
       "      <th>3</th>\n",
       "      <td>4</td>\n",
       "      <td>1</td>\n",
       "      <td>right_eye_center_y</td>\n",
       "      <td>NaN</td>\n",
       "    </tr>\n",
       "    <tr>\n",
       "      <th>4</th>\n",
       "      <td>5</td>\n",
       "      <td>1</td>\n",
       "      <td>left_eye_inner_corner_x</td>\n",
       "      <td>NaN</td>\n",
       "    </tr>\n",
       "  </tbody>\n",
       "</table>\n",
       "</div>"
      ],
      "text/plain": [
       "   RowId  ImageId              FeatureName  Location\n",
       "0      1        1        left_eye_center_x       NaN\n",
       "1      2        1        left_eye_center_y       NaN\n",
       "2      3        1       right_eye_center_x       NaN\n",
       "3      4        1       right_eye_center_y       NaN\n",
       "4      5        1  left_eye_inner_corner_x       NaN"
      ]
     },
     "execution_count": 39,
     "metadata": {
      "tags": []
     },
     "output_type": "execute_result"
    }
   ],
   "source": [
    "lookup.head()"
   ]
  },
  {
   "cell_type": "code",
   "execution_count": 40,
   "metadata": {
    "colab": {
     "base_uri": "https://localhost:8080/"
    },
    "execution": {
     "iopub.execute_input": "2020-08-14T18:34:41.662654Z",
     "iopub.status.busy": "2020-08-14T18:34:41.661716Z",
     "iopub.status.idle": "2020-08-14T18:34:41.667450Z",
     "shell.execute_reply": "2020-08-14T18:34:41.666788Z"
    },
    "id": "mka-dzFEaMii",
    "outputId": "b0752d71-1071-4f15-b1f2-84bac4d9dd5a",
    "papermill": {
     "duration": 0.098978,
     "end_time": "2020-08-14T18:34:41.667562",
     "exception": false,
     "start_time": "2020-08-14T18:34:41.568584",
     "status": "completed"
    },
    "tags": []
   },
   "outputs": [
    {
     "name": "stdout",
     "output_type": "stream",
     "text": [
      "35.554276\n"
     ]
    }
   ],
   "source": [
    "print(preds[0][1])"
   ]
  },
  {
   "cell_type": "code",
   "execution_count": 41,
   "metadata": {
    "colab": {
     "base_uri": "https://localhost:8080/",
     "height": 419
    },
    "execution": {
     "iopub.execute_input": "2020-08-14T18:34:42.042765Z",
     "iopub.status.busy": "2020-08-14T18:34:42.041728Z",
     "iopub.status.idle": "2020-08-14T18:34:42.301788Z",
     "shell.execute_reply": "2020-08-14T18:34:42.302395Z"
    },
    "id": "JzZcv838aMii",
    "outputId": "9ec357dd-17b8-4331-ed43-484050009403",
    "papermill": {
     "duration": 0.549416,
     "end_time": "2020-08-14T18:34:42.302586",
     "exception": false,
     "start_time": "2020-08-14T18:34:41.753170",
     "status": "completed"
    },
    "tags": []
   },
   "outputs": [
    {
     "data": {
      "text/html": [
       "<div>\n",
       "<style scoped>\n",
       "    .dataframe tbody tr th:only-of-type {\n",
       "        vertical-align: middle;\n",
       "    }\n",
       "\n",
       "    .dataframe tbody tr th {\n",
       "        vertical-align: top;\n",
       "    }\n",
       "\n",
       "    .dataframe thead th {\n",
       "        text-align: right;\n",
       "    }\n",
       "</style>\n",
       "<table border=\"1\" class=\"dataframe\">\n",
       "  <thead>\n",
       "    <tr style=\"text-align: right;\">\n",
       "      <th></th>\n",
       "      <th>RowId</th>\n",
       "      <th>Location</th>\n",
       "    </tr>\n",
       "  </thead>\n",
       "  <tbody>\n",
       "    <tr>\n",
       "      <th>0</th>\n",
       "      <td>1</td>\n",
       "      <td>65.350166</td>\n",
       "    </tr>\n",
       "    <tr>\n",
       "      <th>1</th>\n",
       "      <td>2</td>\n",
       "      <td>35.554276</td>\n",
       "    </tr>\n",
       "    <tr>\n",
       "      <th>2</th>\n",
       "      <td>3</td>\n",
       "      <td>28.559128</td>\n",
       "    </tr>\n",
       "    <tr>\n",
       "      <th>3</th>\n",
       "      <td>4</td>\n",
       "      <td>34.305241</td>\n",
       "    </tr>\n",
       "    <tr>\n",
       "      <th>4</th>\n",
       "      <td>5</td>\n",
       "      <td>58.760437</td>\n",
       "    </tr>\n",
       "    <tr>\n",
       "      <th>...</th>\n",
       "      <td>...</td>\n",
       "      <td>...</td>\n",
       "    </tr>\n",
       "    <tr>\n",
       "      <th>27119</th>\n",
       "      <td>27120</td>\n",
       "      <td>37.413570</td>\n",
       "    </tr>\n",
       "    <tr>\n",
       "      <th>27120</th>\n",
       "      <td>27121</td>\n",
       "      <td>46.368450</td>\n",
       "    </tr>\n",
       "    <tr>\n",
       "      <th>27121</th>\n",
       "      <td>27122</td>\n",
       "      <td>64.126129</td>\n",
       "    </tr>\n",
       "    <tr>\n",
       "      <th>27122</th>\n",
       "      <td>27123</td>\n",
       "      <td>46.836479</td>\n",
       "    </tr>\n",
       "    <tr>\n",
       "      <th>27123</th>\n",
       "      <td>27124</td>\n",
       "      <td>76.946114</td>\n",
       "    </tr>\n",
       "  </tbody>\n",
       "</table>\n",
       "<p>27124 rows × 2 columns</p>\n",
       "</div>"
      ],
      "text/plain": [
       "       RowId   Location\n",
       "0          1  65.350166\n",
       "1          2  35.554276\n",
       "2          3  28.559128\n",
       "3          4  34.305241\n",
       "4          5  58.760437\n",
       "...      ...        ...\n",
       "27119  27120  37.413570\n",
       "27120  27121  46.368450\n",
       "27121  27122  64.126129\n",
       "27122  27123  46.836479\n",
       "27123  27124  76.946114\n",
       "\n",
       "[27124 rows x 2 columns]"
      ]
     },
     "execution_count": 41,
     "metadata": {
      "tags": []
     },
     "output_type": "execute_result"
    }
   ],
   "source": [
    "feature = list(lookup['FeatureName'])\n",
    "image_ids = list(lookup['ImageId']-1)\n",
    "row_ids = lookup['RowId']\n",
    "pre_list = list(preds)\n",
    "\n",
    "feature_list = []\n",
    "for f in feature:\n",
    "    feature_list.append(feature.index(f))\n",
    " \n",
    "final_preds = []\n",
    "for x,y in zip(image_ids, feature_list):\n",
    "    final_preds.append(pre_list[x][y])\n",
    "    \n",
    "row_ids = pd.Series(row_ids, name = 'RowId')\n",
    "locations = pd.Series(final_preds, name = 'Location')\n",
    "locations = locations.clip(0.0,96.0)\n",
    "submission_result = pd.concat([row_ids,locations],axis = 1)\n",
    "submission_result.to_csv('submission.csv',index = False)\n",
    "submission_result"
   ]
  },
  {
   "cell_type": "code",
   "execution_count": 264,
   "metadata": {
    "id": "KkxnB-tfg1zt"
   },
   "outputs": [],
   "source": [
    "# img_path = '/content/photo_2021-07-04_14-35-50.jpg'\n",
    "# img_path_2 = '/content/geeks.jpg'"
   ]
  },
  {
   "cell_type": "code",
   "execution_count": 263,
   "metadata": {
    "id": "SxSxEfrZxSke"
   },
   "outputs": [],
   "source": [
    "# import dlib\n",
    "# from PIL import Image\n",
    "# from skimage import io\n",
    "# import matplotlib.pyplot as plt\n",
    "\n",
    "\n",
    "# def detect_faces(image):\n",
    "\n",
    "#     # Create a face detector\n",
    "#     face_detector = dlib.get_frontal_face_detector()\n",
    "\n",
    "#     # Run detector and get bounding boxes of the faces on image.\n",
    "#     detected_faces = face_detector(image, 1)\n",
    "#     face_frames = [(x.left(), x.top(),\n",
    "#                     x.right(), x.bottom()) for x in detected_faces]\n",
    "\n",
    "#     return face_frames\n",
    "\n",
    "# # Load image\n",
    "# image = io.imread(img_path)\n",
    "\n",
    "# # Detect faces\n",
    "# detected_faces = detect_faces(image)\n",
    "\n",
    "# # Crop faces and plot\n",
    "# for n, face_rect in enumerate(detected_faces):\n",
    "#     face = Image.fromarray(image).crop(face_rect)\n",
    "#     a = face.save(\"gabry.jpg\")\n",
    "#     plt.subplot(1, len(detected_faces), n+1)\n",
    "#     plt.axis('off')\n",
    "#     plt.imshow(face)\n",
    "    "
   ]
  },
  {
   "cell_type": "code",
   "execution_count": 210,
   "metadata": {
    "colab": {
     "base_uri": "https://localhost:8080/",
     "height": 147
    },
    "id": "OhcXi0hDuuLq",
    "outputId": "b0cfdeb6-449d-4575-8f5d-d42c6c839c57"
   },
   "outputs": [
    {
     "name": "stdout",
     "output_type": "stream",
     "text": [
      "Original Dimensions :  (462, 462)\n",
      "Resized Dimensions :  (96, 96, 1)\n"
     ]
    },
    {
     "data": {
      "image/png": "[encoded data removed]",
      "text/plain": [
       "<PIL.Image.Image image mode=RGB size=96x96 at 0x7F997A100F90>"
      ]
     },
     "metadata": {
      "tags": []
     },
     "output_type": "display_data"
    }
   ],
   "source": [
    "# import cv2\n",
    " \n",
    "# img = cv2.imread('/content/gabry.jpg', 0)\n",
    " \n",
    "# print('Original Dimensions : ',img.shape)\n",
    " \n",
    "# width = 96\n",
    "# height = 96\n",
    "# dim = (width, height)\n",
    " \n",
    "# # resize image\n",
    "# resized = cv2.resize(img, dim, interpolation = cv2.INTER_AREA)\n",
    "\n",
    "# image = np.reshape(resized, (96,96,1))\n",
    "# print('Resized Dimensions : ',image.shape)\n",
    "\n",
    "# from google.colab.patches import cv2_imshow\n",
    "\n",
    "# cv2_imshow(image)"
   ]
  },
  {
   "cell_type": "code",
   "execution_count": 220,
   "metadata": {
    "colab": {
     "base_uri": "https://localhost:8080/"
    },
    "id": "Qaa4zCxWIvsZ",
    "outputId": "decebcdc-b345-4196-c15b-c17b1248c9b5"
   },
   "outputs": [
    {
     "name": "stdout",
     "output_type": "stream",
     "text": [
      "[[63.007202 33.249393 27.770983 34.363873 55.4898   33.933994 68.838005\n",
      "  33.29153  34.418594 35.284134 20.664345 35.79637  51.677094 26.846611\n",
      "  75.66898  26.261364 36.46924  28.039366 14.266323 29.931097 46.839752\n",
      "  55.77472  63.17661  68.02147  31.369402 70.193306 46.58137  67.643295\n",
      "  46.94702  74.26808 ]]\n"
     ]
    }
   ],
   "source": [
    "# #processing \n",
    "# test_image = np.array(image)\n",
    "# images_2 = np.array(test_image)/255.\n",
    "# tt = np.expand_dims(images_2, axis=0)\n",
    "\n",
    "# y_test = tt\n",
    "# y_test.shape\n",
    "# preds = model.predict(y_test)\n",
    "# print(preds)"
   ]
  },
  {
   "cell_type": "code",
   "execution_count": 225,
   "metadata": {
    "colab": {
     "base_uri": "https://localhost:8080/"
    },
    "id": "QV4csI_oRIMz",
    "outputId": "09f60afd-a533-4aa3-9d3a-6fba6444fa88"
   },
   "outputs": [
    {
     "data": {
      "text/plain": [
       "(96, 96, 1)"
      ]
     },
     "execution_count": 225,
     "metadata": {
      "tags": []
     },
     "output_type": "execute_result"
    }
   ],
   "source": [
    "# test_image.shape"
   ]
  },
  {
   "cell_type": "code",
   "execution_count": 227,
   "metadata": {
    "colab": {
     "base_uri": "https://localhost:8080/",
     "height": 223
    },
    "id": "Lha5cKhAQw5N",
    "outputId": "9be40696-976c-45dd-bbf9-6541abeb0039"
   },
   "outputs": [
    {
     "data": {
      "image/png": "[encoded data removed]",
      "text/plain": [
       "<Figure size 1440x1152 with 1 Axes>"
      ]
     },
     "metadata": {
      "tags": []
     },
     "output_type": "display_data"
    }
   ],
   "source": [
    "# fig = plt.figure(figsize=(20,16))\n",
    "# for i in range(0,1):\n",
    "#     axis = fig.add_subplot(4, 5, i+1, xticks=[], yticks=[])\n",
    "#     plot_sample(test_image, preds[0], axis, \"\")\n",
    "# plt.show()"
   ]
  },
  {
   "cell_type": "code",
   "execution_count": 236,
   "metadata": {
    "colab": {
     "base_uri": "https://localhost:8080/"
    },
    "id": "SjghovY-TU9z",
    "outputId": "a038ecc5-41b5-467a-946d-2fa0d41fc7cc"
   },
   "outputs": [
    {
     "name": "stdout",
     "output_type": "stream",
     "text": [
      "mouth_center_up_lip_y 67.64329528808594\n",
      "mouth_center_bottom_lip_y 74.26808166503906\n"
     ]
    }
   ],
   "source": [
    "# mouth_center_up_lip_y\t = preds[0][27]\n",
    "# print(f'mouth_center_up_lip_y {mouth_center_up_lip_y}')\n",
    "# mouth_center_bottom_lip_y\t = preds[0][29]\n",
    "# print(f'mouth_center_bottom_lip_y {mouth_center_bottom_lip_y}')\n"
   ]
  },
  {
   "cell_type": "code",
   "execution_count": 246,
   "metadata": {
    "id": "FrZq47tgYu_S"
   },
   "outputs": [],
   "source": [
    "def detect_faces(image):\n",
    "\n",
    "    # Create a face detector\n",
    "    face_detector = dlib.get_frontal_face_detector()\n",
    "\n",
    "    # Run detector and get bounding boxes of the faces on image.\n",
    "    detected_faces = face_detector(image, 1)\n",
    "    face_frames = [(x.left(), x.top(),\n",
    "                    x.right(), x.bottom()) for x in detected_faces]\n",
    "\n",
    "    return face_frames"
   ]
  },
  {
   "cell_type": "code",
   "execution_count": 247,
   "metadata": {
    "id": "WxY4ZkcCYTtt"
   },
   "outputs": [],
   "source": [
    "import dlib\n",
    "from PIL import Image\n",
    "from skimage import io\n",
    "import matplotlib.pyplot as plt\n",
    "\n",
    "def Face_detection(img_path):\n",
    "    # Load image\n",
    "    image = io.imread(img_path)\n",
    "    # Detect faces\n",
    "    detected_faces = detect_faces(image)\n",
    "\n",
    "    # Crop faces and plot\n",
    "    for n, face_rect in enumerate(detected_faces):\n",
    "        face = Image.fromarray(image).crop(face_rect)\n",
    "      \n",
    "    return face"
   ]
  },
  {
   "cell_type": "code",
   "execution_count": 260,
   "metadata": {
    "id": "5MI55kDUTu-j"
   },
   "outputs": [],
   "source": [
    "def Rrturn_mouth_top_bootom(path):\n",
    "  #img = cv2.imread(path, 0) \n",
    "  img = Face_detection(path)\n",
    "  img = cv2.cvtColor(np.array(img), cv2.COLOR_RGB2GRAY)\n",
    "  width = 96\n",
    "  height = 96\n",
    "  dim = (width, height)\n",
    "  # resize image\n",
    "  resized = cv2.resize(img, dim, interpolation = cv2.INTER_AREA)\n",
    "  image = np.reshape(resized, (96,96,1))\n",
    "  test_image = np.array(image)\n",
    "  test_image = np.array(test_image)/255.\n",
    "  y_test = np.expand_dims(test_image, axis=0)\n",
    "  preds = model.predict(y_test)\n",
    "  mouth_center_Tob_lip_y\t = preds[0][27]\n",
    "  mouth_center_bottom_lip_y\t = preds[0][29]\n",
    "\n",
    "  return mouth_center_Tob_lip_y,mouth_center_bottom_lip_y,image,preds"
   ]
  },
  {
   "cell_type": "code",
   "execution_count": 261,
   "metadata": {
    "colab": {
     "base_uri": "https://localhost:8080/",
     "height": 257
    },
    "id": "zv-1jAG1WVzl",
    "outputId": "872bbe56-01c7-4843-92a3-e56846ed6945"
   },
   "outputs": [
    {
     "name": "stdout",
     "output_type": "stream",
     "text": [
      "mouth_center_Tob_lip_y 67.6515884399414\n",
      "mouth_center_bottom_lip_y 74.25972747802734\n"
     ]
    },
    {
     "data": {
      "image/png": "[encoded data removed]",
      "text/plain": [
       "<Figure size 1440x1152 with 1 Axes>"
      ]
     },
     "metadata": {
      "tags": []
     },
     "output_type": "display_data"
    }
   ],
   "source": [
    "# This image Has Close Mouse\n",
    "mouth_center_Tob_lip_y,mouth_center_bottom_lip_y,image,preds = Rrturn_mouth_top_bootom('/content/photo_2021-07-04_14-35-50.jpg')\n",
    "print(f'mouth_center_Tob_lip_y {mouth_center_Tob_lip_y}')\n",
    "print(f'mouth_center_bottom_lip_y {mouth_center_bottom_lip_y}')\n",
    "\n",
    "fig = plt.figure(figsize=(20,16))\n",
    "for i in range(0,1):\n",
    "    axis = fig.add_subplot(4, 5, i+1, xticks=[], yticks=[])\n",
    "    plot_sample(image, preds[0], axis, \"\")\n",
    "plt.show()"
   ]
  },
  {
   "cell_type": "code",
   "execution_count": 262,
   "metadata": {
    "colab": {
     "base_uri": "https://localhost:8080/",
     "height": 257
    },
    "id": "qibGWVafbLav",
    "outputId": "5bc34ac3-e559-4d55-b413-d0d509e90927"
   },
   "outputs": [
    {
     "name": "stdout",
     "output_type": "stream",
     "text": [
      "mouth_center_Tob_lip_y 67.32794189453125\n",
      "mouth_center_bottom_lip_y 74.18318176269531\n"
     ]
    },
    {
     "data": {
      "image/png": "[encoded data removed]",
      "text/plain": [
       "<Figure size 1440x1152 with 1 Axes>"
      ]
     },
     "metadata": {
      "tags": []
     },
     "output_type": "display_data"
    }
   ],
   "source": [
    "# This Image Has Open Mouse\n",
    "mouth_center_Tob_lip_y,mouth_center_bottom_lip_y,image,preds = Rrturn_mouth_top_bootom('/content/photo_2021-07-04_18-48-49.jpg')\n",
    "print(f'mouth_center_Tob_lip_y {mouth_center_Tob_lip_y}')\n",
    "print(f'mouth_center_bottom_lip_y {mouth_center_bottom_lip_y}')\n",
    "fig = plt.figure(figsize=(20,16))\n",
    "for i in range(0,1):\n",
    "    axis = fig.add_subplot(4, 5, i+1, xticks=[], yticks=[])\n",
    "    plot_sample(image, preds[0], axis, \"\")\n",
    "plt.show()"
   ]
  },
  {
   "cell_type": "code",
   "execution_count": 273,
   "metadata": {
    "colab": {
     "base_uri": "https://localhost:8080/"
    },
    "id": "mlGpZFcWgXfA",
    "outputId": "bc29f170-2249-4e98-8a98-02c50dabf75f"
   },
   "outputs": [
    {
     "name": "stdout",
     "output_type": "stream",
     "text": [
      "There is no face in the scene so go DOWN\n"
     ]
    }
   ],
   "source": [
    "# This Image Has Open Mouse\n",
    "try:\n",
    "    mouth_center_Tob_lip_y,mouth_center_bottom_lip_y,image,preds = Rrturn_mouth_top_bootom('/content/photo_2021-07-04_20-08-13.jpg')\n",
    "    print(f'mouth_center_Tob_lip_y {mouth_center_Tob_lip_y}')\n",
    "    print(f'mouth_center_bottom_lip_y {mouth_center_bottom_lip_y}')\n",
    "    fig = plt.figure(figsize=(20,16))\n",
    "    for i in range(0,1):\n",
    "        axis = fig.add_subplot(4, 5, i+1, xticks=[], yticks=[])\n",
    "        plot_sample(image, preds[0], axis, \"\")\n",
    "    plt.show()\n",
    "except:\n",
    "  print('There is no face in the scene so go DOWN')"
   ]
  },
  {
   "cell_type": "code",
   "execution_count": null,
   "metadata": {
    "id": "Dmd_v_pB_t66"
   },
   "outputs": [],
   "source": []
  }
 ],
 "metadata": {
  "accelerator": "GPU",
  "colab": {
   "name": "keras-facial-keypoint-analysis.ipynb",
   "provenance": []
  },
  "kernelspec": {
   "display_name": "Python 3",
   "language": "python",
   "name": "python3"
  },
  "language_info": {
   "codemirror_mode": {
    "name": "ipython",
    "version": 3
   },
   "file_extension": ".py",
   "mimetype": "text/x-python",
   "name": "python",
   "nbconvert_exporter": "python",
   "pygments_lexer": "ipython3",
   "version": "3.8.8"
  },
  "papermill": {
   "duration": 262.984966,
   "end_time": "2020-08-14T18:34:44.518071",
   "environment_variables": {},
   "exception": null,
   "input_path": "__notebook__.ipynb",
   "output_path": "__notebook__.ipynb",
   "parameters": {},
   "start_time": "2020-08-14T18:30:21.533105",
   "version": "2.1.0"
  }
 },
 "nbformat": 4,
 "nbformat_minor": 1
}
